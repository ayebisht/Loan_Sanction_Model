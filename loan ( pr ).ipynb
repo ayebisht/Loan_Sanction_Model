{
 "cells": [
  {
   "cell_type": "code",
   "execution_count": 1,
   "id": "24d88460",
   "metadata": {},
   "outputs": [],
   "source": [
    "import numpy as np \n",
    "import pandas as pd\n",
    "import matplotlib.pyplot as plt\n",
    "import seaborn as sns\n",
    "\n",
    "import warnings\n",
    "warnings.filterwarnings(\"ignore\")"
   ]
  },
  {
   "cell_type": "code",
   "execution_count": 2,
   "id": "da3bec15",
   "metadata": {},
   "outputs": [
    {
     "data": {
      "text/html": [
       "<div>\n",
       "<style scoped>\n",
       "    .dataframe tbody tr th:only-of-type {\n",
       "        vertical-align: middle;\n",
       "    }\n",
       "\n",
       "    .dataframe tbody tr th {\n",
       "        vertical-align: top;\n",
       "    }\n",
       "\n",
       "    .dataframe thead th {\n",
       "        text-align: right;\n",
       "    }\n",
       "</style>\n",
       "<table border=\"1\" class=\"dataframe\">\n",
       "  <thead>\n",
       "    <tr style=\"text-align: right;\">\n",
       "      <th></th>\n",
       "      <th>Loan_ID</th>\n",
       "      <th>Gender</th>\n",
       "      <th>Married</th>\n",
       "      <th>Dependents</th>\n",
       "      <th>Education</th>\n",
       "      <th>Self_Employed</th>\n",
       "      <th>ApplicantIncome</th>\n",
       "      <th>CoapplicantIncome</th>\n",
       "      <th>LoanAmount</th>\n",
       "      <th>Loan_Amount_Term</th>\n",
       "      <th>Credit_History</th>\n",
       "      <th>Property_Area</th>\n",
       "      <th>Loan_Status</th>\n",
       "    </tr>\n",
       "  </thead>\n",
       "  <tbody>\n",
       "    <tr>\n",
       "      <th>461</th>\n",
       "      <td>LP002484</td>\n",
       "      <td>Male</td>\n",
       "      <td>Yes</td>\n",
       "      <td>3+</td>\n",
       "      <td>Graduate</td>\n",
       "      <td>No</td>\n",
       "      <td>7740</td>\n",
       "      <td>0.0</td>\n",
       "      <td>128.0</td>\n",
       "      <td>180.0</td>\n",
       "      <td>1.0</td>\n",
       "      <td>Urban</td>\n",
       "      <td>Y</td>\n",
       "    </tr>\n",
       "    <tr>\n",
       "      <th>207</th>\n",
       "      <td>LP001698</td>\n",
       "      <td>Male</td>\n",
       "      <td>No</td>\n",
       "      <td>0</td>\n",
       "      <td>Not Graduate</td>\n",
       "      <td>No</td>\n",
       "      <td>3975</td>\n",
       "      <td>2531.0</td>\n",
       "      <td>55.0</td>\n",
       "      <td>360.0</td>\n",
       "      <td>1.0</td>\n",
       "      <td>Rural</td>\n",
       "      <td>Y</td>\n",
       "    </tr>\n",
       "    <tr>\n",
       "      <th>218</th>\n",
       "      <td>LP001732</td>\n",
       "      <td>Male</td>\n",
       "      <td>Yes</td>\n",
       "      <td>2</td>\n",
       "      <td>Graduate</td>\n",
       "      <td>NaN</td>\n",
       "      <td>5000</td>\n",
       "      <td>0.0</td>\n",
       "      <td>72.0</td>\n",
       "      <td>360.0</td>\n",
       "      <td>0.0</td>\n",
       "      <td>Semiurban</td>\n",
       "      <td>N</td>\n",
       "    </tr>\n",
       "    <tr>\n",
       "      <th>18</th>\n",
       "      <td>LP001038</td>\n",
       "      <td>Male</td>\n",
       "      <td>Yes</td>\n",
       "      <td>0</td>\n",
       "      <td>Not Graduate</td>\n",
       "      <td>No</td>\n",
       "      <td>4887</td>\n",
       "      <td>0.0</td>\n",
       "      <td>133.0</td>\n",
       "      <td>360.0</td>\n",
       "      <td>1.0</td>\n",
       "      <td>Rural</td>\n",
       "      <td>N</td>\n",
       "    </tr>\n",
       "    <tr>\n",
       "      <th>431</th>\n",
       "      <td>LP002379</td>\n",
       "      <td>Male</td>\n",
       "      <td>No</td>\n",
       "      <td>0</td>\n",
       "      <td>Graduate</td>\n",
       "      <td>No</td>\n",
       "      <td>6500</td>\n",
       "      <td>0.0</td>\n",
       "      <td>105.0</td>\n",
       "      <td>360.0</td>\n",
       "      <td>0.0</td>\n",
       "      <td>Rural</td>\n",
       "      <td>N</td>\n",
       "    </tr>\n",
       "  </tbody>\n",
       "</table>\n",
       "</div>"
      ],
      "text/plain": [
       "      Loan_ID Gender Married Dependents     Education Self_Employed  \\\n",
       "461  LP002484   Male     Yes         3+      Graduate            No   \n",
       "207  LP001698   Male      No          0  Not Graduate            No   \n",
       "218  LP001732   Male     Yes          2      Graduate           NaN   \n",
       "18   LP001038   Male     Yes          0  Not Graduate            No   \n",
       "431  LP002379   Male      No          0      Graduate            No   \n",
       "\n",
       "     ApplicantIncome  CoapplicantIncome  LoanAmount  Loan_Amount_Term  \\\n",
       "461             7740                0.0       128.0             180.0   \n",
       "207             3975             2531.0        55.0             360.0   \n",
       "218             5000                0.0        72.0             360.0   \n",
       "18              4887                0.0       133.0             360.0   \n",
       "431             6500                0.0       105.0             360.0   \n",
       "\n",
       "     Credit_History Property_Area Loan_Status  \n",
       "461             1.0         Urban           Y  \n",
       "207             1.0         Rural           Y  \n",
       "218             0.0     Semiurban           N  \n",
       "18              1.0         Rural           N  \n",
       "431             0.0         Rural           N  "
      ]
     },
     "execution_count": 2,
     "metadata": {},
     "output_type": "execute_result"
    }
   ],
   "source": [
    "df=pd.read_csv(\"loan.csv\")\n",
    "df.sample(5)"
   ]
  },
  {
   "cell_type": "markdown",
   "id": "1e4ca6a5",
   "metadata": {},
   "source": [
    "**inference**\n",
    "* Target cols is { Loan_Status }\n",
    "* Loan_ID has no use Hence, will drop that cols "
   ]
  },
  {
   "cell_type": "code",
   "execution_count": 3,
   "id": "24055e23",
   "metadata": {},
   "outputs": [
    {
     "data": {
      "text/plain": [
       "(614, 13)"
      ]
     },
     "execution_count": 3,
     "metadata": {},
     "output_type": "execute_result"
    }
   ],
   "source": [
    "df.shape"
   ]
  },
  {
   "cell_type": "markdown",
   "id": "3ea8de68",
   "metadata": {},
   "source": [
    "**Inference**\n",
    "* 614 rows & 13 features"
   ]
  },
  {
   "cell_type": "code",
   "execution_count": 4,
   "id": "21ea50de",
   "metadata": {},
   "outputs": [
    {
     "name": "stdout",
     "output_type": "stream",
     "text": [
      "<class 'pandas.core.frame.DataFrame'>\n",
      "RangeIndex: 614 entries, 0 to 613\n",
      "Data columns (total 13 columns):\n",
      " #   Column             Non-Null Count  Dtype  \n",
      "---  ------             --------------  -----  \n",
      " 0   Loan_ID            614 non-null    object \n",
      " 1   Gender             601 non-null    object \n",
      " 2   Married            611 non-null    object \n",
      " 3   Dependents         599 non-null    object \n",
      " 4   Education          614 non-null    object \n",
      " 5   Self_Employed      582 non-null    object \n",
      " 6   ApplicantIncome    614 non-null    int64  \n",
      " 7   CoapplicantIncome  614 non-null    float64\n",
      " 8   LoanAmount         592 non-null    float64\n",
      " 9   Loan_Amount_Term   600 non-null    float64\n",
      " 10  Credit_History     564 non-null    float64\n",
      " 11  Property_Area      614 non-null    object \n",
      " 12  Loan_Status        614 non-null    object \n",
      "dtypes: float64(4), int64(1), object(8)\n",
      "memory usage: 62.5+ KB\n"
     ]
    }
   ],
   "source": [
    "### info \n",
    "\n",
    "df.info()"
   ]
  },
  {
   "cell_type": "markdown",
   "id": "7dcfd575",
   "metadata": {},
   "source": [
    "**Inference**\n",
    "* Dtypes are proper assigned \n",
    "* Null values to be found in the dataset "
   ]
  },
  {
   "cell_type": "code",
   "execution_count": 5,
   "id": "7b1e6050",
   "metadata": {},
   "outputs": [
    {
     "data": {
      "text/plain": [
       "Index(['Loan_ID', 'Gender', 'Married', 'Dependents', 'Education',\n",
       "       'Self_Employed', 'ApplicantIncome', 'CoapplicantIncome', 'LoanAmount',\n",
       "       'Loan_Amount_Term', 'Credit_History', 'Property_Area', 'Loan_Status'],\n",
       "      dtype='object')"
      ]
     },
     "execution_count": 5,
     "metadata": {},
     "output_type": "execute_result"
    }
   ],
   "source": [
    "df.columns"
   ]
  },
  {
   "cell_type": "markdown",
   "id": "be10c493",
   "metadata": {},
   "source": [
    "## Exploring Features "
   ]
  },
  {
   "cell_type": "code",
   "execution_count": 6,
   "id": "4f13b5da",
   "metadata": {},
   "outputs": [
    {
     "data": {
      "text/plain": [
       "array(['Male', 'Female', nan], dtype=object)"
      ]
     },
     "execution_count": 6,
     "metadata": {},
     "output_type": "execute_result"
    }
   ],
   "source": [
    "## Gender\n",
    "\n",
    "df[\"Gender\"].unique()"
   ]
  },
  {
   "cell_type": "code",
   "execution_count": 7,
   "id": "c19baf25",
   "metadata": {},
   "outputs": [
    {
     "data": {
      "text/plain": [
       "array(['No', 'Yes', nan], dtype=object)"
      ]
     },
     "execution_count": 7,
     "metadata": {},
     "output_type": "execute_result"
    }
   ],
   "source": [
    "## Married \n",
    "\n",
    "df[\"Married\"].unique()"
   ]
  },
  {
   "cell_type": "code",
   "execution_count": 8,
   "id": "3a39c4ac",
   "metadata": {},
   "outputs": [
    {
     "data": {
      "text/plain": [
       "array(['Graduate', 'Not Graduate'], dtype=object)"
      ]
     },
     "execution_count": 8,
     "metadata": {},
     "output_type": "execute_result"
    }
   ],
   "source": [
    "## Education\n",
    "\n",
    "df[\"Education\"].unique()"
   ]
  },
  {
   "cell_type": "code",
   "execution_count": 9,
   "id": "dca32942",
   "metadata": {},
   "outputs": [
    {
     "data": {
      "text/plain": [
       "array(['No', 'Yes', nan], dtype=object)"
      ]
     },
     "execution_count": 9,
     "metadata": {},
     "output_type": "execute_result"
    }
   ],
   "source": [
    "## Self_Employed\n",
    "\n",
    "df[\"Self_Employed\"].unique()"
   ]
  },
  {
   "cell_type": "code",
   "execution_count": 10,
   "id": "e0aa8784",
   "metadata": {},
   "outputs": [
    {
     "data": {
      "text/plain": [
       "array([ 1.,  0., nan])"
      ]
     },
     "execution_count": 10,
     "metadata": {},
     "output_type": "execute_result"
    }
   ],
   "source": [
    "## Credit_History\n",
    "\n",
    "df[\"Credit_History\"].unique()"
   ]
  },
  {
   "cell_type": "code",
   "execution_count": 11,
   "id": "5e635c5b",
   "metadata": {},
   "outputs": [
    {
     "data": {
      "text/plain": [
       "array(['Urban', 'Rural', 'Semiurban'], dtype=object)"
      ]
     },
     "execution_count": 11,
     "metadata": {},
     "output_type": "execute_result"
    }
   ],
   "source": [
    "## Property_Area\n",
    "\n",
    "df[\"Property_Area\"].unique()"
   ]
  },
  {
   "cell_type": "code",
   "execution_count": 12,
   "id": "35125dc6",
   "metadata": {},
   "outputs": [
    {
     "data": {
      "text/plain": [
       "array(['Y', 'N'], dtype=object)"
      ]
     },
     "execution_count": 12,
     "metadata": {},
     "output_type": "execute_result"
    }
   ],
   "source": [
    "## Loan_Status\n",
    "\n",
    "df[\"Loan_Status\"].unique()"
   ]
  },
  {
   "cell_type": "code",
   "execution_count": 13,
   "id": "8d30921f",
   "metadata": {},
   "outputs": [
    {
     "data": {
      "text/plain": [
       "array(['0', '1', '2', '3+', nan], dtype=object)"
      ]
     },
     "execution_count": 13,
     "metadata": {},
     "output_type": "execute_result"
    }
   ],
   "source": [
    "## Dependents\n",
    "\n",
    "df[\"Dependents\"].unique()"
   ]
  },
  {
   "cell_type": "markdown",
   "id": "9afee02b",
   "metadata": {},
   "source": [
    "## Handling null values"
   ]
  },
  {
   "cell_type": "code",
   "execution_count": 14,
   "id": "68c4023f",
   "metadata": {},
   "outputs": [
    {
     "data": {
      "text/plain": [
       "Loan_ID               0\n",
       "Gender               13\n",
       "Married               3\n",
       "Dependents           15\n",
       "Education             0\n",
       "Self_Employed        32\n",
       "ApplicantIncome       0\n",
       "CoapplicantIncome     0\n",
       "LoanAmount           22\n",
       "Loan_Amount_Term     14\n",
       "Credit_History       50\n",
       "Property_Area         0\n",
       "Loan_Status           0\n",
       "dtype: int64"
      ]
     },
     "execution_count": 14,
     "metadata": {},
     "output_type": "execute_result"
    }
   ],
   "source": [
    "## null values \n",
    "\n",
    "df.isna().sum()"
   ]
  },
  {
   "cell_type": "code",
   "execution_count": 15,
   "id": "9c6e1987",
   "metadata": {},
   "outputs": [
    {
     "data": {
      "text/plain": [
       "<AxesSubplot:>"
      ]
     },
     "execution_count": 15,
     "metadata": {},
     "output_type": "execute_result"
    },
    {
     "data": {
      "image/png": "[encoded data removed]",
      "text/plain": [
       "<Figure size 432x288 with 1 Axes>"
      ]
     },
     "metadata": {
      "needs_background": "light"
     },
     "output_type": "display_data"
    }
   ],
   "source": [
    "## graphical representation ( null values )  \n",
    "\n",
    "sns.heatmap(df.isna(),cbar=False,cmap=\"viridis\",yticklabels=False)"
   ]
  },
  {
   "cell_type": "markdown",
   "id": "e3cdd8a6",
   "metadata": {},
   "source": [
    "**Inference**\n",
    "* null values to be found in **{ Gender, Married, Dependents, Self_Employed, Credit_History, LoanAmount, Loan_Amount_Term }**"
   ]
  },
  {
   "cell_type": "code",
   "execution_count": 16,
   "id": "cfa9c8a0",
   "metadata": {},
   "outputs": [],
   "source": [
    "# filling na with mode \n",
    "\n",
    "df[\"Gender\"]=df[\"Gender\"].fillna(df[\"Gender\"].mode()[0])\n",
    "df[\"Married\"]=df[\"Married\"].fillna(df[\"Married\"].mode()[0])\n",
    "df[\"Dependents\"]=df[\"Dependents\"].fillna(df[\"Dependents\"].mode()[0])\n",
    "df[\"Self_Employed\"]=df[\"Self_Employed\"].fillna(df[\"Self_Employed\"].mode()[0])\n",
    "df[\"Credit_History\"]=df[\"Credit_History\"].fillna(df[\"Credit_History\"].mode()[0])\n",
    "\n",
    "# filling na with mean \n",
    "\n",
    "df[\"LoanAmount\"]=df[\"LoanAmount\"].fillna(df[\"LoanAmount\"].mean())\n",
    "df[\"Loan_Amount_Term\"]=df[\"Loan_Amount_Term\"].fillna(df[\"Loan_Amount_Term\"].mean())"
   ]
  },
  {
   "cell_type": "code",
   "execution_count": 17,
   "id": "ed5300d2",
   "metadata": {},
   "outputs": [
    {
     "data": {
      "text/plain": [
       "Loan_ID              0\n",
       "Gender               0\n",
       "Married              0\n",
       "Dependents           0\n",
       "Education            0\n",
       "Self_Employed        0\n",
       "ApplicantIncome      0\n",
       "CoapplicantIncome    0\n",
       "LoanAmount           0\n",
       "Loan_Amount_Term     0\n",
       "Credit_History       0\n",
       "Property_Area        0\n",
       "Loan_Status          0\n",
       "dtype: int64"
      ]
     },
     "execution_count": 17,
     "metadata": {},
     "output_type": "execute_result"
    }
   ],
   "source": [
    "# checking weather values replaced??? \n",
    "\n",
    "df.isna().sum()"
   ]
  },
  {
   "cell_type": "code",
   "execution_count": 18,
   "id": "01f8ce5c",
   "metadata": {},
   "outputs": [
    {
     "data": {
      "text/plain": [
       "<AxesSubplot:>"
      ]
     },
     "execution_count": 18,
     "metadata": {},
     "output_type": "execute_result"
    },
    {
     "data": {
      "image/png": "[encoded data removed]",
      "text/plain": [
       "<Figure size 432x288 with 1 Axes>"
      ]
     },
     "metadata": {
      "needs_background": "light"
     },
     "output_type": "display_data"
    }
   ],
   "source": [
    "## graphical representation ( null values )  \n",
    "\n",
    "sns.heatmap(df.isna(),cbar=False,cmap=\"viridis\",yticklabels=False)"
   ]
  },
  {
   "cell_type": "markdown",
   "id": "b15e4dc0",
   "metadata": {},
   "source": [
    "**Inference**\n",
    "* **Gender, Married, Dependents, Self_Employed, Credit_History** replaced with **mode**\n",
    "* **LoanAmount, Loan_Amount_Term** replaced with **mean**"
   ]
  },
  {
   "cell_type": "markdown",
   "id": "3fdd8fb3",
   "metadata": {},
   "source": [
    "## Encoding "
   ]
  },
  {
   "cell_type": "code",
   "execution_count": 19,
   "id": "2f1dbfbe",
   "metadata": {},
   "outputs": [],
   "source": [
    "### Encoding using map func \n",
    "\n",
    "df[\"Gender\"]=df[\"Gender\"].map({'Male':0, 'Female':1})\n",
    "df[\"Married\"]=df[\"Married\"].map({'No':0, 'Yes':1})\n",
    "df[\"Dependents\"]=df[\"Dependents\"].map({'0':0, '1':1, '2':2, '3+':3})\n",
    "df[\"Education\"]=df[\"Education\"].map({'Graduate':0, 'Not Graduate':1})\n",
    "df[\"Self_Employed\"]=df[\"Self_Employed\"].map({'No':0, 'Yes':1})\n",
    "df[\"Property_Area\"]=df[\"Property_Area\"].map({'Urban':0, 'Rural':1, 'Semiurban':2})\n",
    "df[\"Loan_Status\"]=df[\"Loan_Status\"].map({'N':0, 'Y':1})"
   ]
  },
  {
   "cell_type": "code",
   "execution_count": 20,
   "id": "c0cac067",
   "metadata": {},
   "outputs": [
    {
     "data": {
      "text/html": [
       "<div>\n",
       "<style scoped>\n",
       "    .dataframe tbody tr th:only-of-type {\n",
       "        vertical-align: middle;\n",
       "    }\n",
       "\n",
       "    .dataframe tbody tr th {\n",
       "        vertical-align: top;\n",
       "    }\n",
       "\n",
       "    .dataframe thead th {\n",
       "        text-align: right;\n",
       "    }\n",
       "</style>\n",
       "<table border=\"1\" class=\"dataframe\">\n",
       "  <thead>\n",
       "    <tr style=\"text-align: right;\">\n",
       "      <th></th>\n",
       "      <th>Loan_ID</th>\n",
       "      <th>Gender</th>\n",
       "      <th>Married</th>\n",
       "      <th>Dependents</th>\n",
       "      <th>Education</th>\n",
       "      <th>Self_Employed</th>\n",
       "      <th>ApplicantIncome</th>\n",
       "      <th>CoapplicantIncome</th>\n",
       "      <th>LoanAmount</th>\n",
       "      <th>Loan_Amount_Term</th>\n",
       "      <th>Credit_History</th>\n",
       "      <th>Property_Area</th>\n",
       "      <th>Loan_Status</th>\n",
       "    </tr>\n",
       "  </thead>\n",
       "  <tbody>\n",
       "    <tr>\n",
       "      <th>0</th>\n",
       "      <td>LP001002</td>\n",
       "      <td>0</td>\n",
       "      <td>0</td>\n",
       "      <td>0</td>\n",
       "      <td>0</td>\n",
       "      <td>0</td>\n",
       "      <td>5849</td>\n",
       "      <td>0.0</td>\n",
       "      <td>146.412162</td>\n",
       "      <td>360.0</td>\n",
       "      <td>1.0</td>\n",
       "      <td>0</td>\n",
       "      <td>1</td>\n",
       "    </tr>\n",
       "    <tr>\n",
       "      <th>1</th>\n",
       "      <td>LP001003</td>\n",
       "      <td>0</td>\n",
       "      <td>1</td>\n",
       "      <td>1</td>\n",
       "      <td>0</td>\n",
       "      <td>0</td>\n",
       "      <td>4583</td>\n",
       "      <td>1508.0</td>\n",
       "      <td>128.000000</td>\n",
       "      <td>360.0</td>\n",
       "      <td>1.0</td>\n",
       "      <td>1</td>\n",
       "      <td>0</td>\n",
       "    </tr>\n",
       "  </tbody>\n",
       "</table>\n",
       "</div>"
      ],
      "text/plain": [
       "    Loan_ID  Gender  Married  Dependents  Education  Self_Employed  \\\n",
       "0  LP001002       0        0           0          0              0   \n",
       "1  LP001003       0        1           1          0              0   \n",
       "\n",
       "   ApplicantIncome  CoapplicantIncome  LoanAmount  Loan_Amount_Term  \\\n",
       "0             5849                0.0  146.412162             360.0   \n",
       "1             4583             1508.0  128.000000             360.0   \n",
       "\n",
       "   Credit_History  Property_Area  Loan_Status  \n",
       "0             1.0              0            1  \n",
       "1             1.0              1            0  "
      ]
     },
     "execution_count": 20,
     "metadata": {},
     "output_type": "execute_result"
    }
   ],
   "source": [
    "df.head(2)"
   ]
  },
  {
   "cell_type": "markdown",
   "id": "a96966e4",
   "metadata": {},
   "source": [
    "## Feature Selection"
   ]
  },
  {
   "cell_type": "code",
   "execution_count": 21,
   "id": "5561ba84",
   "metadata": {},
   "outputs": [
    {
     "data": {
      "text/plain": [
       "Gender              -0.017987\n",
       "Married              0.091478\n",
       "Dependents           0.010118\n",
       "Education           -0.085884\n",
       "Self_Employed       -0.003700\n",
       "ApplicantIncome     -0.004710\n",
       "CoapplicantIncome   -0.059187\n",
       "LoanAmount          -0.036416\n",
       "Loan_Amount_Term    -0.020974\n",
       "Credit_History       0.540556\n",
       "Property_Area        0.103253\n",
       "Loan_Status          1.000000\n",
       "Name: Loan_Status, dtype: float64"
      ]
     },
     "execution_count": 21,
     "metadata": {},
     "output_type": "execute_result"
    }
   ],
   "source": [
    "### numeric representation\n",
    "\n",
    "df.corr()['Loan_Status']"
   ]
  },
  {
   "cell_type": "code",
   "execution_count": 22,
   "id": "abfec4bc",
   "metadata": {},
   "outputs": [
    {
     "data": {
      "image/png": "[encoded data removed]",
      "text/plain": [
       "<Figure size 1152x504 with 2 Axes>"
      ]
     },
     "metadata": {
      "needs_background": "light"
     },
     "output_type": "display_data"
    }
   ],
   "source": [
    "### graphical representation\n",
    "\n",
    "plt.figure(figsize=(16,7))\n",
    "sns.heatmap(df.corr(),yticklabels=False,annot=True,cmap=\"Blues\")\n",
    "plt.show()"
   ]
  },
  {
   "cell_type": "markdown",
   "id": "ca419fd7",
   "metadata": {},
   "source": [
    "**Inference**\n",
    "* **Highly correlated { Credit_History }**\n",
    "* **Midly correlated { Married, Dependents, Property_Area }**\n",
    "* **Negative correlated { Gender, Education, Self_Employed, ApplicationIncome, CoapplicantIncome, LoanAmount, Loan_Amount_Term }** "
   ]
  },
  {
   "cell_type": "code",
   "execution_count": 23,
   "id": "03ee6ec6",
   "metadata": {},
   "outputs": [],
   "source": [
    "## dropping cols \n",
    "\n",
    "df.drop(\"Loan_ID\",inplace=True,axis=1)"
   ]
  },
  {
   "cell_type": "code",
   "execution_count": 24,
   "id": "53980c29",
   "metadata": {},
   "outputs": [
    {
     "data": {
      "text/html": [
       "<div>\n",
       "<style scoped>\n",
       "    .dataframe tbody tr th:only-of-type {\n",
       "        vertical-align: middle;\n",
       "    }\n",
       "\n",
       "    .dataframe tbody tr th {\n",
       "        vertical-align: top;\n",
       "    }\n",
       "\n",
       "    .dataframe thead th {\n",
       "        text-align: right;\n",
       "    }\n",
       "</style>\n",
       "<table border=\"1\" class=\"dataframe\">\n",
       "  <thead>\n",
       "    <tr style=\"text-align: right;\">\n",
       "      <th></th>\n",
       "      <th>Gender</th>\n",
       "      <th>Married</th>\n",
       "      <th>Dependents</th>\n",
       "      <th>Education</th>\n",
       "      <th>Self_Employed</th>\n",
       "      <th>ApplicantIncome</th>\n",
       "      <th>CoapplicantIncome</th>\n",
       "      <th>LoanAmount</th>\n",
       "      <th>Loan_Amount_Term</th>\n",
       "      <th>Credit_History</th>\n",
       "      <th>Property_Area</th>\n",
       "      <th>Loan_Status</th>\n",
       "    </tr>\n",
       "  </thead>\n",
       "  <tbody>\n",
       "    <tr>\n",
       "      <th>0</th>\n",
       "      <td>0</td>\n",
       "      <td>0</td>\n",
       "      <td>0</td>\n",
       "      <td>0</td>\n",
       "      <td>0</td>\n",
       "      <td>5849</td>\n",
       "      <td>0.0</td>\n",
       "      <td>146.412162</td>\n",
       "      <td>360.0</td>\n",
       "      <td>1.0</td>\n",
       "      <td>0</td>\n",
       "      <td>1</td>\n",
       "    </tr>\n",
       "    <tr>\n",
       "      <th>1</th>\n",
       "      <td>0</td>\n",
       "      <td>1</td>\n",
       "      <td>1</td>\n",
       "      <td>0</td>\n",
       "      <td>0</td>\n",
       "      <td>4583</td>\n",
       "      <td>1508.0</td>\n",
       "      <td>128.000000</td>\n",
       "      <td>360.0</td>\n",
       "      <td>1.0</td>\n",
       "      <td>1</td>\n",
       "      <td>0</td>\n",
       "    </tr>\n",
       "  </tbody>\n",
       "</table>\n",
       "</div>"
      ],
      "text/plain": [
       "   Gender  Married  Dependents  Education  Self_Employed  ApplicantIncome  \\\n",
       "0       0        0           0          0              0             5849   \n",
       "1       0        1           1          0              0             4583   \n",
       "\n",
       "   CoapplicantIncome  LoanAmount  Loan_Amount_Term  Credit_History  \\\n",
       "0                0.0  146.412162             360.0             1.0   \n",
       "1             1508.0  128.000000             360.0             1.0   \n",
       "\n",
       "   Property_Area  Loan_Status  \n",
       "0              0            1  \n",
       "1              1            0  "
      ]
     },
     "execution_count": 24,
     "metadata": {},
     "output_type": "execute_result"
    }
   ],
   "source": [
    "## checking \n",
    "\n",
    "df.head(2)"
   ]
  },
  {
   "cell_type": "markdown",
   "id": "eb224cfd",
   "metadata": {},
   "source": [
    "## Outliers "
   ]
  },
  {
   "cell_type": "code",
   "execution_count": 25,
   "id": "7376e220",
   "metadata": {},
   "outputs": [
    {
     "data": {
      "text/html": [
       "<div>\n",
       "<style scoped>\n",
       "    .dataframe tbody tr th:only-of-type {\n",
       "        vertical-align: middle;\n",
       "    }\n",
       "\n",
       "    .dataframe tbody tr th {\n",
       "        vertical-align: top;\n",
       "    }\n",
       "\n",
       "    .dataframe thead th {\n",
       "        text-align: right;\n",
       "    }\n",
       "</style>\n",
       "<table border=\"1\" class=\"dataframe\">\n",
       "  <thead>\n",
       "    <tr style=\"text-align: right;\">\n",
       "      <th></th>\n",
       "      <th>Gender</th>\n",
       "      <th>Married</th>\n",
       "      <th>Dependents</th>\n",
       "      <th>Education</th>\n",
       "      <th>Self_Employed</th>\n",
       "      <th>ApplicantIncome</th>\n",
       "      <th>CoapplicantIncome</th>\n",
       "      <th>LoanAmount</th>\n",
       "      <th>Loan_Amount_Term</th>\n",
       "      <th>Credit_History</th>\n",
       "      <th>Property_Area</th>\n",
       "      <th>Loan_Status</th>\n",
       "    </tr>\n",
       "  </thead>\n",
       "  <tbody>\n",
       "    <tr>\n",
       "      <th>count</th>\n",
       "      <td>614.000000</td>\n",
       "      <td>614.000000</td>\n",
       "      <td>614.000000</td>\n",
       "      <td>614.000000</td>\n",
       "      <td>614.000000</td>\n",
       "      <td>614.000000</td>\n",
       "      <td>614.000000</td>\n",
       "      <td>614.000000</td>\n",
       "      <td>614.000000</td>\n",
       "      <td>614.000000</td>\n",
       "      <td>614.000000</td>\n",
       "      <td>614.000000</td>\n",
       "    </tr>\n",
       "    <tr>\n",
       "      <th>mean</th>\n",
       "      <td>0.182410</td>\n",
       "      <td>0.653094</td>\n",
       "      <td>0.744300</td>\n",
       "      <td>0.218241</td>\n",
       "      <td>0.133550</td>\n",
       "      <td>5403.459283</td>\n",
       "      <td>1621.245798</td>\n",
       "      <td>146.412162</td>\n",
       "      <td>342.000000</td>\n",
       "      <td>0.855049</td>\n",
       "      <td>1.050489</td>\n",
       "      <td>0.687296</td>\n",
       "    </tr>\n",
       "    <tr>\n",
       "      <th>std</th>\n",
       "      <td>0.386497</td>\n",
       "      <td>0.476373</td>\n",
       "      <td>1.009623</td>\n",
       "      <td>0.413389</td>\n",
       "      <td>0.340446</td>\n",
       "      <td>6109.041673</td>\n",
       "      <td>2926.248369</td>\n",
       "      <td>84.037468</td>\n",
       "      <td>64.372489</td>\n",
       "      <td>0.352339</td>\n",
       "      <td>0.840875</td>\n",
       "      <td>0.463973</td>\n",
       "    </tr>\n",
       "    <tr>\n",
       "      <th>min</th>\n",
       "      <td>0.000000</td>\n",
       "      <td>0.000000</td>\n",
       "      <td>0.000000</td>\n",
       "      <td>0.000000</td>\n",
       "      <td>0.000000</td>\n",
       "      <td>150.000000</td>\n",
       "      <td>0.000000</td>\n",
       "      <td>9.000000</td>\n",
       "      <td>12.000000</td>\n",
       "      <td>0.000000</td>\n",
       "      <td>0.000000</td>\n",
       "      <td>0.000000</td>\n",
       "    </tr>\n",
       "    <tr>\n",
       "      <th>25%</th>\n",
       "      <td>0.000000</td>\n",
       "      <td>0.000000</td>\n",
       "      <td>0.000000</td>\n",
       "      <td>0.000000</td>\n",
       "      <td>0.000000</td>\n",
       "      <td>2877.500000</td>\n",
       "      <td>0.000000</td>\n",
       "      <td>100.250000</td>\n",
       "      <td>360.000000</td>\n",
       "      <td>1.000000</td>\n",
       "      <td>0.000000</td>\n",
       "      <td>0.000000</td>\n",
       "    </tr>\n",
       "    <tr>\n",
       "      <th>50%</th>\n",
       "      <td>0.000000</td>\n",
       "      <td>1.000000</td>\n",
       "      <td>0.000000</td>\n",
       "      <td>0.000000</td>\n",
       "      <td>0.000000</td>\n",
       "      <td>3812.500000</td>\n",
       "      <td>1188.500000</td>\n",
       "      <td>129.000000</td>\n",
       "      <td>360.000000</td>\n",
       "      <td>1.000000</td>\n",
       "      <td>1.000000</td>\n",
       "      <td>1.000000</td>\n",
       "    </tr>\n",
       "    <tr>\n",
       "      <th>75%</th>\n",
       "      <td>0.000000</td>\n",
       "      <td>1.000000</td>\n",
       "      <td>1.000000</td>\n",
       "      <td>0.000000</td>\n",
       "      <td>0.000000</td>\n",
       "      <td>5795.000000</td>\n",
       "      <td>2297.250000</td>\n",
       "      <td>164.750000</td>\n",
       "      <td>360.000000</td>\n",
       "      <td>1.000000</td>\n",
       "      <td>2.000000</td>\n",
       "      <td>1.000000</td>\n",
       "    </tr>\n",
       "    <tr>\n",
       "      <th>max</th>\n",
       "      <td>1.000000</td>\n",
       "      <td>1.000000</td>\n",
       "      <td>3.000000</td>\n",
       "      <td>1.000000</td>\n",
       "      <td>1.000000</td>\n",
       "      <td>81000.000000</td>\n",
       "      <td>41667.000000</td>\n",
       "      <td>700.000000</td>\n",
       "      <td>480.000000</td>\n",
       "      <td>1.000000</td>\n",
       "      <td>2.000000</td>\n",
       "      <td>1.000000</td>\n",
       "    </tr>\n",
       "  </tbody>\n",
       "</table>\n",
       "</div>"
      ],
      "text/plain": [
       "           Gender     Married  Dependents   Education  Self_Employed  \\\n",
       "count  614.000000  614.000000  614.000000  614.000000     614.000000   \n",
       "mean     0.182410    0.653094    0.744300    0.218241       0.133550   \n",
       "std      0.386497    0.476373    1.009623    0.413389       0.340446   \n",
       "min      0.000000    0.000000    0.000000    0.000000       0.000000   \n",
       "25%      0.000000    0.000000    0.000000    0.000000       0.000000   \n",
       "50%      0.000000    1.000000    0.000000    0.000000       0.000000   \n",
       "75%      0.000000    1.000000    1.000000    0.000000       0.000000   \n",
       "max      1.000000    1.000000    3.000000    1.000000       1.000000   \n",
       "\n",
       "       ApplicantIncome  CoapplicantIncome  LoanAmount  Loan_Amount_Term  \\\n",
       "count       614.000000         614.000000  614.000000        614.000000   \n",
       "mean       5403.459283        1621.245798  146.412162        342.000000   \n",
       "std        6109.041673        2926.248369   84.037468         64.372489   \n",
       "min         150.000000           0.000000    9.000000         12.000000   \n",
       "25%        2877.500000           0.000000  100.250000        360.000000   \n",
       "50%        3812.500000        1188.500000  129.000000        360.000000   \n",
       "75%        5795.000000        2297.250000  164.750000        360.000000   \n",
       "max       81000.000000       41667.000000  700.000000        480.000000   \n",
       "\n",
       "       Credit_History  Property_Area  Loan_Status  \n",
       "count      614.000000     614.000000   614.000000  \n",
       "mean         0.855049       1.050489     0.687296  \n",
       "std          0.352339       0.840875     0.463973  \n",
       "min          0.000000       0.000000     0.000000  \n",
       "25%          1.000000       0.000000     0.000000  \n",
       "50%          1.000000       1.000000     1.000000  \n",
       "75%          1.000000       2.000000     1.000000  \n",
       "max          1.000000       2.000000     1.000000  "
      ]
     },
     "execution_count": 25,
     "metadata": {},
     "output_type": "execute_result"
    }
   ],
   "source": [
    "### Descriptive Stats\n",
    "\n",
    "df.describe()"
   ]
  },
  {
   "cell_type": "code",
   "execution_count": 26,
   "id": "a254eb02",
   "metadata": {},
   "outputs": [
    {
     "data": {
      "image/png": "[encoded data removed]",
      "text/plain": [
       "<Figure size 1152x360 with 3 Axes>"
      ]
     },
     "metadata": {
      "needs_background": "light"
     },
     "output_type": "display_data"
    }
   ],
   "source": [
    "## graphical representation\n",
    "\n",
    "plt.figure(figsize=(16,5))\n",
    "plt.subplot(1,3,1)\n",
    "sns.boxplot(df[\"ApplicantIncome\"])\n",
    "\n",
    "plt.subplot(1,3,2)\n",
    "sns.boxplot(df[\"CoapplicantIncome\"])\n",
    "\n",
    "plt.subplot(1,3,3)\n",
    "sns.boxplot(df[\"LoanAmount\"])\n",
    "plt.show()"
   ]
  },
  {
   "cell_type": "markdown",
   "id": "8509b164",
   "metadata": {},
   "source": [
    "**Inference**\n",
    "* Outliers to be found in the dataset for **{ ApplicantIncome, CoapplicantIncome, LoanAmount }**\n",
    "* If I remove outliers the dataset is reduced to 33 rows Hence keeping the outliers "
   ]
  },
  {
   "cell_type": "markdown",
   "id": "aa05b20a",
   "metadata": {},
   "source": [
    "## Insights "
   ]
  },
  {
   "cell_type": "code",
   "execution_count": 27,
   "id": "cd2343f7",
   "metadata": {},
   "outputs": [
    {
     "data": {
      "text/html": [
       "<div>\n",
       "<style scoped>\n",
       "    .dataframe tbody tr th:only-of-type {\n",
       "        vertical-align: middle;\n",
       "    }\n",
       "\n",
       "    .dataframe tbody tr th {\n",
       "        vertical-align: top;\n",
       "    }\n",
       "\n",
       "    .dataframe thead th {\n",
       "        text-align: right;\n",
       "    }\n",
       "</style>\n",
       "<table border=\"1\" class=\"dataframe\">\n",
       "  <thead>\n",
       "    <tr style=\"text-align: right;\">\n",
       "      <th></th>\n",
       "      <th>Gender</th>\n",
       "      <th>Married</th>\n",
       "      <th>Dependents</th>\n",
       "      <th>Education</th>\n",
       "      <th>Self_Employed</th>\n",
       "      <th>ApplicantIncome</th>\n",
       "      <th>CoapplicantIncome</th>\n",
       "      <th>LoanAmount</th>\n",
       "      <th>Loan_Amount_Term</th>\n",
       "      <th>Credit_History</th>\n",
       "      <th>Property_Area</th>\n",
       "      <th>Loan_Status</th>\n",
       "    </tr>\n",
       "  </thead>\n",
       "  <tbody>\n",
       "    <tr>\n",
       "      <th>0</th>\n",
       "      <td>0</td>\n",
       "      <td>0</td>\n",
       "      <td>0</td>\n",
       "      <td>0</td>\n",
       "      <td>0</td>\n",
       "      <td>5849</td>\n",
       "      <td>0.0</td>\n",
       "      <td>146.412162</td>\n",
       "      <td>360.0</td>\n",
       "      <td>1.0</td>\n",
       "      <td>0</td>\n",
       "      <td>1</td>\n",
       "    </tr>\n",
       "    <tr>\n",
       "      <th>1</th>\n",
       "      <td>0</td>\n",
       "      <td>1</td>\n",
       "      <td>1</td>\n",
       "      <td>0</td>\n",
       "      <td>0</td>\n",
       "      <td>4583</td>\n",
       "      <td>1508.0</td>\n",
       "      <td>128.000000</td>\n",
       "      <td>360.0</td>\n",
       "      <td>1.0</td>\n",
       "      <td>1</td>\n",
       "      <td>0</td>\n",
       "    </tr>\n",
       "    <tr>\n",
       "      <th>2</th>\n",
       "      <td>0</td>\n",
       "      <td>1</td>\n",
       "      <td>0</td>\n",
       "      <td>0</td>\n",
       "      <td>1</td>\n",
       "      <td>3000</td>\n",
       "      <td>0.0</td>\n",
       "      <td>66.000000</td>\n",
       "      <td>360.0</td>\n",
       "      <td>1.0</td>\n",
       "      <td>0</td>\n",
       "      <td>1</td>\n",
       "    </tr>\n",
       "  </tbody>\n",
       "</table>\n",
       "</div>"
      ],
      "text/plain": [
       "   Gender  Married  Dependents  Education  Self_Employed  ApplicantIncome  \\\n",
       "0       0        0           0          0              0             5849   \n",
       "1       0        1           1          0              0             4583   \n",
       "2       0        1           0          0              1             3000   \n",
       "\n",
       "   CoapplicantIncome  LoanAmount  Loan_Amount_Term  Credit_History  \\\n",
       "0                0.0  146.412162             360.0             1.0   \n",
       "1             1508.0  128.000000             360.0             1.0   \n",
       "2                0.0   66.000000             360.0             1.0   \n",
       "\n",
       "   Property_Area  Loan_Status  \n",
       "0              0            1  \n",
       "1              1            0  \n",
       "2              0            1  "
      ]
     },
     "execution_count": 27,
     "metadata": {},
     "output_type": "execute_result"
    }
   ],
   "source": [
    "df.head(3)"
   ]
  },
  {
   "cell_type": "code",
   "execution_count": 28,
   "id": "40454801",
   "metadata": {},
   "outputs": [
    {
     "data": {
      "text/plain": [
       "<AxesSubplot:xlabel='Gender', ylabel='count'>"
      ]
     },
     "execution_count": 28,
     "metadata": {},
     "output_type": "execute_result"
    },
    {
     "data": {
      "image/png": "[encoded data removed]",
      "text/plain": [
       "<Figure size 432x288 with 1 Axes>"
      ]
     },
     "metadata": {
      "needs_background": "light"
     },
     "output_type": "display_data"
    }
   ],
   "source": [
    "## Gender\n",
    "\n",
    "sns.countplot(df[\"Gender\"])"
   ]
  },
  {
   "cell_type": "markdown",
   "id": "0cbe1dec",
   "metadata": {},
   "source": [
    "**Inference**\n",
    "* Male count { 0 } in the dataset is higher than women count { 1 }"
   ]
  },
  {
   "cell_type": "code",
   "execution_count": 29,
   "id": "7669125f",
   "metadata": {},
   "outputs": [
    {
     "data": {
      "text/html": [
       "<div>\n",
       "<style scoped>\n",
       "    .dataframe tbody tr th:only-of-type {\n",
       "        vertical-align: middle;\n",
       "    }\n",
       "\n",
       "    .dataframe tbody tr th {\n",
       "        vertical-align: top;\n",
       "    }\n",
       "\n",
       "    .dataframe thead th {\n",
       "        text-align: right;\n",
       "    }\n",
       "</style>\n",
       "<table border=\"1\" class=\"dataframe\">\n",
       "  <thead>\n",
       "    <tr style=\"text-align: right;\">\n",
       "      <th>Loan_Status</th>\n",
       "      <th>0</th>\n",
       "      <th>1</th>\n",
       "    </tr>\n",
       "    <tr>\n",
       "      <th>Gender</th>\n",
       "      <th></th>\n",
       "      <th></th>\n",
       "    </tr>\n",
       "  </thead>\n",
       "  <tbody>\n",
       "    <tr>\n",
       "      <th>0</th>\n",
       "      <td>155</td>\n",
       "      <td>347</td>\n",
       "    </tr>\n",
       "    <tr>\n",
       "      <th>1</th>\n",
       "      <td>37</td>\n",
       "      <td>75</td>\n",
       "    </tr>\n",
       "  </tbody>\n",
       "</table>\n",
       "</div>"
      ],
      "text/plain": [
       "Loan_Status    0    1\n",
       "Gender               \n",
       "0            155  347\n",
       "1             37   75"
      ]
     },
     "execution_count": 29,
     "metadata": {},
     "output_type": "execute_result"
    }
   ],
   "source": [
    "## Gender comparing \n",
    "\n",
    "pd.crosstab(df[\"Gender\"],df[\"Loan_Status\"])"
   ]
  },
  {
   "cell_type": "code",
   "execution_count": 30,
   "id": "2f1dcacd",
   "metadata": {},
   "outputs": [
    {
     "data": {
      "text/plain": [
       "<AxesSubplot:xlabel='Gender', ylabel='count'>"
      ]
     },
     "execution_count": 30,
     "metadata": {},
     "output_type": "execute_result"
    },
    {
     "data": {
      "image/png": "[encoded data removed]",
      "text/plain": [
       "<Figure size 432x288 with 1 Axes>"
      ]
     },
     "metadata": {
      "needs_background": "light"
     },
     "output_type": "display_data"
    }
   ],
   "source": [
    "## crosstab visualization\n",
    "\n",
    "sns.countplot(x=df[\"Gender\"],hue=df[\"Loan_Status\"])"
   ]
  },
  {
   "cell_type": "markdown",
   "id": "342314e7",
   "metadata": {},
   "source": [
    "**Inference**\n",
    "* Here, Gender 0 is male , 1 is female & loan_status 0 is no & 1 is yes \n",
    "* We can see that male has the highest possibility getting a loan compared to women, **Note** data for women less \n"
   ]
  },
  {
   "cell_type": "code",
   "execution_count": 31,
   "id": "e33c9d9f",
   "metadata": {},
   "outputs": [
    {
     "data": {
      "text/plain": [
       "<AxesSubplot:xlabel='Married', ylabel='count'>"
      ]
     },
     "execution_count": 31,
     "metadata": {},
     "output_type": "execute_result"
    },
    {
     "data": {
      "image/png": "[encoded data removed]",
      "text/plain": [
       "<Figure size 432x288 with 1 Axes>"
      ]
     },
     "metadata": {
      "needs_background": "light"
     },
     "output_type": "display_data"
    }
   ],
   "source": [
    "## Married\n",
    "\n",
    "sns.countplot(df[\"Married\"])"
   ]
  },
  {
   "cell_type": "markdown",
   "id": "9096ea48",
   "metadata": {},
   "source": [
    "**Inference**\n",
    "* Married are more than the unmarried people"
   ]
  },
  {
   "cell_type": "code",
   "execution_count": 32,
   "id": "36f1efcc",
   "metadata": {},
   "outputs": [
    {
     "data": {
      "text/html": [
       "<div>\n",
       "<style scoped>\n",
       "    .dataframe tbody tr th:only-of-type {\n",
       "        vertical-align: middle;\n",
       "    }\n",
       "\n",
       "    .dataframe tbody tr th {\n",
       "        vertical-align: top;\n",
       "    }\n",
       "\n",
       "    .dataframe thead th {\n",
       "        text-align: right;\n",
       "    }\n",
       "</style>\n",
       "<table border=\"1\" class=\"dataframe\">\n",
       "  <thead>\n",
       "    <tr style=\"text-align: right;\">\n",
       "      <th>Loan_Status</th>\n",
       "      <th>0</th>\n",
       "      <th>1</th>\n",
       "    </tr>\n",
       "    <tr>\n",
       "      <th>Married</th>\n",
       "      <th></th>\n",
       "      <th></th>\n",
       "    </tr>\n",
       "  </thead>\n",
       "  <tbody>\n",
       "    <tr>\n",
       "      <th>0</th>\n",
       "      <td>79</td>\n",
       "      <td>134</td>\n",
       "    </tr>\n",
       "    <tr>\n",
       "      <th>1</th>\n",
       "      <td>113</td>\n",
       "      <td>288</td>\n",
       "    </tr>\n",
       "  </tbody>\n",
       "</table>\n",
       "</div>"
      ],
      "text/plain": [
       "Loan_Status    0    1\n",
       "Married              \n",
       "0             79  134\n",
       "1            113  288"
      ]
     },
     "execution_count": 32,
     "metadata": {},
     "output_type": "execute_result"
    }
   ],
   "source": [
    "## Married comparing \n",
    "\n",
    "pd.crosstab(df[\"Married\"],df[\"Loan_Status\"])"
   ]
  },
  {
   "cell_type": "code",
   "execution_count": 33,
   "id": "a7841bc9",
   "metadata": {},
   "outputs": [
    {
     "data": {
      "text/plain": [
       "<AxesSubplot:xlabel='Married', ylabel='count'>"
      ]
     },
     "execution_count": 33,
     "metadata": {},
     "output_type": "execute_result"
    },
    {
     "data": {
      "image/png": "[encoded data removed]",
      "text/plain": [
       "<Figure size 432x288 with 1 Axes>"
      ]
     },
     "metadata": {
      "needs_background": "light"
     },
     "output_type": "display_data"
    }
   ],
   "source": [
    "## crosstab visualization\n",
    "\n",
    "sns.countplot(x=df[\"Married\"],hue=df[\"Loan_Status\"])"
   ]
  },
  {
   "cell_type": "markdown",
   "id": "90c64e0a",
   "metadata": {},
   "source": [
    "**Inference**\n",
    "* Here, 0 is Unmarried , 1 is Married  & loan_status 0 is no & 1 is yes\n",
    "* We can see that Married people has the highest possibility getting a loan compared to Unmarried"
   ]
  },
  {
   "cell_type": "code",
   "execution_count": 34,
   "id": "b8797e42",
   "metadata": {},
   "outputs": [
    {
     "data": {
      "text/plain": [
       "<AxesSubplot:xlabel='Dependents', ylabel='count'>"
      ]
     },
     "execution_count": 34,
     "metadata": {},
     "output_type": "execute_result"
    },
    {
     "data": {
      "image/png": "[encoded data removed]",
      "text/plain": [
       "<Figure size 432x288 with 1 Axes>"
      ]
     },
     "metadata": {
      "needs_background": "light"
     },
     "output_type": "display_data"
    }
   ],
   "source": [
    "## Dependents\n",
    "\n",
    "sns.countplot(df[\"Dependents\"])"
   ]
  },
  {
   "cell_type": "markdown",
   "id": "88c11e53",
   "metadata": {},
   "source": [
    "**Inference**\n",
    "* 0 means no dependents and so on \n",
    "* Here, most of data is on no dependents"
   ]
  },
  {
   "cell_type": "code",
   "execution_count": 35,
   "id": "4bc7906c",
   "metadata": {},
   "outputs": [
    {
     "data": {
      "text/html": [
       "<div>\n",
       "<style scoped>\n",
       "    .dataframe tbody tr th:only-of-type {\n",
       "        vertical-align: middle;\n",
       "    }\n",
       "\n",
       "    .dataframe tbody tr th {\n",
       "        vertical-align: top;\n",
       "    }\n",
       "\n",
       "    .dataframe thead th {\n",
       "        text-align: right;\n",
       "    }\n",
       "</style>\n",
       "<table border=\"1\" class=\"dataframe\">\n",
       "  <thead>\n",
       "    <tr style=\"text-align: right;\">\n",
       "      <th>Loan_Status</th>\n",
       "      <th>0</th>\n",
       "      <th>1</th>\n",
       "    </tr>\n",
       "    <tr>\n",
       "      <th>Dependents</th>\n",
       "      <th></th>\n",
       "      <th></th>\n",
       "    </tr>\n",
       "  </thead>\n",
       "  <tbody>\n",
       "    <tr>\n",
       "      <th>0</th>\n",
       "      <td>113</td>\n",
       "      <td>247</td>\n",
       "    </tr>\n",
       "    <tr>\n",
       "      <th>1</th>\n",
       "      <td>36</td>\n",
       "      <td>66</td>\n",
       "    </tr>\n",
       "    <tr>\n",
       "      <th>2</th>\n",
       "      <td>25</td>\n",
       "      <td>76</td>\n",
       "    </tr>\n",
       "    <tr>\n",
       "      <th>3</th>\n",
       "      <td>18</td>\n",
       "      <td>33</td>\n",
       "    </tr>\n",
       "  </tbody>\n",
       "</table>\n",
       "</div>"
      ],
      "text/plain": [
       "Loan_Status    0    1\n",
       "Dependents           \n",
       "0            113  247\n",
       "1             36   66\n",
       "2             25   76\n",
       "3             18   33"
      ]
     },
     "execution_count": 35,
     "metadata": {},
     "output_type": "execute_result"
    }
   ],
   "source": [
    "## Dependents comparing \n",
    "\n",
    "pd.crosstab(df[\"Dependents\"],df[\"Loan_Status\"])"
   ]
  },
  {
   "cell_type": "code",
   "execution_count": 36,
   "id": "63460881",
   "metadata": {},
   "outputs": [
    {
     "data": {
      "text/plain": [
       "<AxesSubplot:xlabel='Dependents', ylabel='count'>"
      ]
     },
     "execution_count": 36,
     "metadata": {},
     "output_type": "execute_result"
    },
    {
     "data": {
      "image/png": "[encoded data removed]",
      "text/plain": [
       "<Figure size 432x288 with 1 Axes>"
      ]
     },
     "metadata": {
      "needs_background": "light"
     },
     "output_type": "display_data"
    }
   ],
   "source": [
    "## crosstab visualization\n",
    "\n",
    "sns.countplot(x=df[\"Dependents\"],hue=df[\"Loan_Status\"])"
   ]
  },
  {
   "cell_type": "markdown",
   "id": "ccc2fbdf",
   "metadata": {},
   "source": [
    "**Inference**\n",
    "* No dependents has the Highest possibility of getting loan"
   ]
  },
  {
   "cell_type": "code",
   "execution_count": 37,
   "id": "706f1f80",
   "metadata": {},
   "outputs": [
    {
     "data": {
      "text/plain": [
       "<AxesSubplot:xlabel='Education', ylabel='count'>"
      ]
     },
     "execution_count": 37,
     "metadata": {},
     "output_type": "execute_result"
    },
    {
     "data": {
      "image/png": "[encoded data removed]",
      "text/plain": [
       "<Figure size 432x288 with 1 Axes>"
      ]
     },
     "metadata": {
      "needs_background": "light"
     },
     "output_type": "display_data"
    }
   ],
   "source": [
    "## Education\n",
    "\n",
    "sns.countplot(df[\"Education\"])"
   ]
  },
  {
   "cell_type": "markdown",
   "id": "4f9c202a",
   "metadata": {},
   "source": [
    "**Inference**\n",
    "* Here, 0 are Graduate & 1 are Not Graduate "
   ]
  },
  {
   "cell_type": "code",
   "execution_count": 38,
   "id": "f7fd355c",
   "metadata": {},
   "outputs": [
    {
     "data": {
      "text/html": [
       "<div>\n",
       "<style scoped>\n",
       "    .dataframe tbody tr th:only-of-type {\n",
       "        vertical-align: middle;\n",
       "    }\n",
       "\n",
       "    .dataframe tbody tr th {\n",
       "        vertical-align: top;\n",
       "    }\n",
       "\n",
       "    .dataframe thead th {\n",
       "        text-align: right;\n",
       "    }\n",
       "</style>\n",
       "<table border=\"1\" class=\"dataframe\">\n",
       "  <thead>\n",
       "    <tr style=\"text-align: right;\">\n",
       "      <th>Loan_Status</th>\n",
       "      <th>0</th>\n",
       "      <th>1</th>\n",
       "    </tr>\n",
       "    <tr>\n",
       "      <th>Education</th>\n",
       "      <th></th>\n",
       "      <th></th>\n",
       "    </tr>\n",
       "  </thead>\n",
       "  <tbody>\n",
       "    <tr>\n",
       "      <th>0</th>\n",
       "      <td>140</td>\n",
       "      <td>340</td>\n",
       "    </tr>\n",
       "    <tr>\n",
       "      <th>1</th>\n",
       "      <td>52</td>\n",
       "      <td>82</td>\n",
       "    </tr>\n",
       "  </tbody>\n",
       "</table>\n",
       "</div>"
      ],
      "text/plain": [
       "Loan_Status    0    1\n",
       "Education            \n",
       "0            140  340\n",
       "1             52   82"
      ]
     },
     "execution_count": 38,
     "metadata": {},
     "output_type": "execute_result"
    }
   ],
   "source": [
    "## Education comparing \n",
    "\n",
    "pd.crosstab(df[\"Education\"],df[\"Loan_Status\"])"
   ]
  },
  {
   "cell_type": "code",
   "execution_count": 39,
   "id": "ef0b7cd5",
   "metadata": {},
   "outputs": [
    {
     "data": {
      "text/plain": [
       "<AxesSubplot:xlabel='Education', ylabel='count'>"
      ]
     },
     "execution_count": 39,
     "metadata": {},
     "output_type": "execute_result"
    },
    {
     "data": {
      "image/png": "[encoded data removed]",
      "text/plain": [
       "<Figure size 432x288 with 1 Axes>"
      ]
     },
     "metadata": {
      "needs_background": "light"
     },
     "output_type": "display_data"
    }
   ],
   "source": [
    "## crosstab visualization\n",
    "\n",
    "sns.countplot(x=df[\"Education\"],hue=df[\"Loan_Status\"])"
   ]
  },
  {
   "cell_type": "markdown",
   "id": "1fc36117",
   "metadata": {},
   "source": [
    "**Inference**\n",
    "* Graduate has the highest possibility of getting a loan than UnGraduate **Note** Graduate data is more than UnGraduate"
   ]
  },
  {
   "cell_type": "code",
   "execution_count": 40,
   "id": "495c0f72",
   "metadata": {},
   "outputs": [
    {
     "data": {
      "text/plain": [
       "<AxesSubplot:xlabel='Self_Employed', ylabel='count'>"
      ]
     },
     "execution_count": 40,
     "metadata": {},
     "output_type": "execute_result"
    },
    {
     "data": {
      "image/png": "[encoded data removed]",
      "text/plain": [
       "<Figure size 432x288 with 1 Axes>"
      ]
     },
     "metadata": {
      "needs_background": "light"
     },
     "output_type": "display_data"
    }
   ],
   "source": [
    "## Self_Employed\n",
    "\n",
    "sns.countplot(df[\"Self_Employed\"])"
   ]
  },
  {
   "cell_type": "markdown",
   "id": "eef42289",
   "metadata": {},
   "source": [
    "**Inference**\n",
    "* Here, 0 are not self_employed & 1 are self_employed"
   ]
  },
  {
   "cell_type": "code",
   "execution_count": 41,
   "id": "560de2d4",
   "metadata": {},
   "outputs": [
    {
     "data": {
      "text/html": [
       "<div>\n",
       "<style scoped>\n",
       "    .dataframe tbody tr th:only-of-type {\n",
       "        vertical-align: middle;\n",
       "    }\n",
       "\n",
       "    .dataframe tbody tr th {\n",
       "        vertical-align: top;\n",
       "    }\n",
       "\n",
       "    .dataframe thead th {\n",
       "        text-align: right;\n",
       "    }\n",
       "</style>\n",
       "<table border=\"1\" class=\"dataframe\">\n",
       "  <thead>\n",
       "    <tr style=\"text-align: right;\">\n",
       "      <th>Loan_Status</th>\n",
       "      <th>0</th>\n",
       "      <th>1</th>\n",
       "    </tr>\n",
       "    <tr>\n",
       "      <th>Self_Employed</th>\n",
       "      <th></th>\n",
       "      <th></th>\n",
       "    </tr>\n",
       "  </thead>\n",
       "  <tbody>\n",
       "    <tr>\n",
       "      <th>0</th>\n",
       "      <td>166</td>\n",
       "      <td>366</td>\n",
       "    </tr>\n",
       "    <tr>\n",
       "      <th>1</th>\n",
       "      <td>26</td>\n",
       "      <td>56</td>\n",
       "    </tr>\n",
       "  </tbody>\n",
       "</table>\n",
       "</div>"
      ],
      "text/plain": [
       "Loan_Status      0    1\n",
       "Self_Employed          \n",
       "0              166  366\n",
       "1               26   56"
      ]
     },
     "execution_count": 41,
     "metadata": {},
     "output_type": "execute_result"
    }
   ],
   "source": [
    "## Self_Employed comparing \n",
    "\n",
    "pd.crosstab(df[\"Self_Employed\"],df[\"Loan_Status\"])"
   ]
  },
  {
   "cell_type": "code",
   "execution_count": 42,
   "id": "181eb978",
   "metadata": {},
   "outputs": [
    {
     "data": {
      "text/plain": [
       "<AxesSubplot:xlabel='Self_Employed', ylabel='count'>"
      ]
     },
     "execution_count": 42,
     "metadata": {},
     "output_type": "execute_result"
    },
    {
     "data": {
      "image/png": "[encoded data removed]",
      "text/plain": [
       "<Figure size 432x288 with 1 Axes>"
      ]
     },
     "metadata": {
      "needs_background": "light"
     },
     "output_type": "display_data"
    }
   ],
   "source": [
    "## crosstab visualization\n",
    "\n",
    "sns.countplot(x=df[\"Self_Employed\"],hue=df[\"Loan_Status\"])"
   ]
  },
  {
   "cell_type": "markdown",
   "id": "68ab7282",
   "metadata": {},
   "source": [
    "**Inference**\n",
    "* Not self Employed people has highest possibility of laon sactions "
   ]
  },
  {
   "cell_type": "code",
   "execution_count": 43,
   "id": "325716a0",
   "metadata": {},
   "outputs": [
    {
     "data": {
      "text/plain": [
       "<AxesSubplot:xlabel='Property_Area', ylabel='count'>"
      ]
     },
     "execution_count": 43,
     "metadata": {},
     "output_type": "execute_result"
    },
    {
     "data": {
      "image/png": "[encoded data removed]",
      "text/plain": [
       "<Figure size 432x288 with 1 Axes>"
      ]
     },
     "metadata": {
      "needs_background": "light"
     },
     "output_type": "display_data"
    }
   ],
   "source": [
    "## Property_Area\n",
    "\n",
    "sns.countplot(df[\"Property_Area\"])"
   ]
  },
  {
   "cell_type": "markdown",
   "id": "a14d3152",
   "metadata": {},
   "source": [
    "**Inference**\n",
    "* Here, 0 are rural area, 1 are urban & 2 are semi-urban area \n",
    "* Most of the people from data stay in semi-urban area "
   ]
  },
  {
   "cell_type": "code",
   "execution_count": 44,
   "id": "f1da19e6",
   "metadata": {},
   "outputs": [
    {
     "data": {
      "text/html": [
       "<div>\n",
       "<style scoped>\n",
       "    .dataframe tbody tr th:only-of-type {\n",
       "        vertical-align: middle;\n",
       "    }\n",
       "\n",
       "    .dataframe tbody tr th {\n",
       "        vertical-align: top;\n",
       "    }\n",
       "\n",
       "    .dataframe thead th {\n",
       "        text-align: right;\n",
       "    }\n",
       "</style>\n",
       "<table border=\"1\" class=\"dataframe\">\n",
       "  <thead>\n",
       "    <tr style=\"text-align: right;\">\n",
       "      <th>Loan_Status</th>\n",
       "      <th>0</th>\n",
       "      <th>1</th>\n",
       "    </tr>\n",
       "    <tr>\n",
       "      <th>Property_Area</th>\n",
       "      <th></th>\n",
       "      <th></th>\n",
       "    </tr>\n",
       "  </thead>\n",
       "  <tbody>\n",
       "    <tr>\n",
       "      <th>0</th>\n",
       "      <td>69</td>\n",
       "      <td>133</td>\n",
       "    </tr>\n",
       "    <tr>\n",
       "      <th>1</th>\n",
       "      <td>69</td>\n",
       "      <td>110</td>\n",
       "    </tr>\n",
       "    <tr>\n",
       "      <th>2</th>\n",
       "      <td>54</td>\n",
       "      <td>179</td>\n",
       "    </tr>\n",
       "  </tbody>\n",
       "</table>\n",
       "</div>"
      ],
      "text/plain": [
       "Loan_Status     0    1\n",
       "Property_Area         \n",
       "0              69  133\n",
       "1              69  110\n",
       "2              54  179"
      ]
     },
     "execution_count": 44,
     "metadata": {},
     "output_type": "execute_result"
    }
   ],
   "source": [
    "## Property_Area comparing \n",
    "\n",
    "pd.crosstab(df[\"Property_Area\"],df[\"Loan_Status\"])"
   ]
  },
  {
   "cell_type": "code",
   "execution_count": 45,
   "id": "c2e8168a",
   "metadata": {},
   "outputs": [
    {
     "data": {
      "text/plain": [
       "<AxesSubplot:xlabel='Property_Area', ylabel='count'>"
      ]
     },
     "execution_count": 45,
     "metadata": {},
     "output_type": "execute_result"
    },
    {
     "data": {
      "image/png": "[encoded data removed]",
      "text/plain": [
       "<Figure size 432x288 with 1 Axes>"
      ]
     },
     "metadata": {
      "needs_background": "light"
     },
     "output_type": "display_data"
    }
   ],
   "source": [
    "## crosstab visualization\n",
    "\n",
    "sns.countplot(x=df[\"Property_Area\"],hue=df[\"Loan_Status\"])"
   ]
  },
  {
   "cell_type": "markdown",
   "id": "4feab00c",
   "metadata": {},
   "source": [
    "**Inference**\n",
    "* People from semi-urban area has the highest possibility getting loan sactions then comes rural and then urban"
   ]
  },
  {
   "cell_type": "code",
   "execution_count": 46,
   "id": "a82e1f0f",
   "metadata": {},
   "outputs": [
    {
     "data": {
      "text/plain": [
       "<AxesSubplot:xlabel='Credit_History', ylabel='count'>"
      ]
     },
     "execution_count": 46,
     "metadata": {},
     "output_type": "execute_result"
    },
    {
     "data": {
      "image/png": "[encoded data removed]",
      "text/plain": [
       "<Figure size 432x288 with 1 Axes>"
      ]
     },
     "metadata": {
      "needs_background": "light"
     },
     "output_type": "display_data"
    }
   ],
   "source": [
    "## Credit_History\n",
    "\n",
    "sns.countplot(df[\"Credit_History\"])"
   ]
  },
  {
   "cell_type": "markdown",
   "id": "607d6c61",
   "metadata": {},
   "source": [
    "**Inference**\n",
    "* Here, 1 credit history is good and 0 is not good  "
   ]
  },
  {
   "cell_type": "code",
   "execution_count": 47,
   "id": "64728b6b",
   "metadata": {},
   "outputs": [
    {
     "data": {
      "text/html": [
       "<div>\n",
       "<style scoped>\n",
       "    .dataframe tbody tr th:only-of-type {\n",
       "        vertical-align: middle;\n",
       "    }\n",
       "\n",
       "    .dataframe tbody tr th {\n",
       "        vertical-align: top;\n",
       "    }\n",
       "\n",
       "    .dataframe thead th {\n",
       "        text-align: right;\n",
       "    }\n",
       "</style>\n",
       "<table border=\"1\" class=\"dataframe\">\n",
       "  <thead>\n",
       "    <tr style=\"text-align: right;\">\n",
       "      <th>Loan_Status</th>\n",
       "      <th>0</th>\n",
       "      <th>1</th>\n",
       "    </tr>\n",
       "    <tr>\n",
       "      <th>Credit_History</th>\n",
       "      <th></th>\n",
       "      <th></th>\n",
       "    </tr>\n",
       "  </thead>\n",
       "  <tbody>\n",
       "    <tr>\n",
       "      <th>0.0</th>\n",
       "      <td>82</td>\n",
       "      <td>7</td>\n",
       "    </tr>\n",
       "    <tr>\n",
       "      <th>1.0</th>\n",
       "      <td>110</td>\n",
       "      <td>415</td>\n",
       "    </tr>\n",
       "  </tbody>\n",
       "</table>\n",
       "</div>"
      ],
      "text/plain": [
       "Loan_Status       0    1\n",
       "Credit_History          \n",
       "0.0              82    7\n",
       "1.0             110  415"
      ]
     },
     "execution_count": 47,
     "metadata": {},
     "output_type": "execute_result"
    }
   ],
   "source": [
    "## Credit_History comparing \n",
    "\n",
    "pd.crosstab(df[\"Credit_History\"],df[\"Loan_Status\"])"
   ]
  },
  {
   "cell_type": "code",
   "execution_count": 48,
   "id": "ad39d17e",
   "metadata": {},
   "outputs": [
    {
     "data": {
      "text/plain": [
       "<AxesSubplot:xlabel='Credit_History', ylabel='count'>"
      ]
     },
     "execution_count": 48,
     "metadata": {},
     "output_type": "execute_result"
    },
    {
     "data": {
      "image/png": "[encoded data removed]",
      "text/plain": [
       "<Figure size 432x288 with 1 Axes>"
      ]
     },
     "metadata": {
      "needs_background": "light"
     },
     "output_type": "display_data"
    }
   ],
   "source": [
    "## crosstab visualization\n",
    "\n",
    "sns.countplot(x=df[\"Credit_History\"],hue=df[\"Loan_Status\"])"
   ]
  },
  {
   "cell_type": "markdown",
   "id": "02044e33",
   "metadata": {},
   "source": [
    "**Inference**\n",
    "* People with 1 credit history has the possible rate for loan sactions **Note** data for 0 credit history is less"
   ]
  },
  {
   "cell_type": "markdown",
   "id": "95a5331e",
   "metadata": {},
   "source": [
    "## Standardization"
   ]
  },
  {
   "cell_type": "code",
   "execution_count": 49,
   "id": "59868a47",
   "metadata": {},
   "outputs": [
    {
     "data": {
      "text/html": [
       "<div>\n",
       "<style scoped>\n",
       "    .dataframe tbody tr th:only-of-type {\n",
       "        vertical-align: middle;\n",
       "    }\n",
       "\n",
       "    .dataframe tbody tr th {\n",
       "        vertical-align: top;\n",
       "    }\n",
       "\n",
       "    .dataframe thead th {\n",
       "        text-align: right;\n",
       "    }\n",
       "</style>\n",
       "<table border=\"1\" class=\"dataframe\">\n",
       "  <thead>\n",
       "    <tr style=\"text-align: right;\">\n",
       "      <th></th>\n",
       "      <th>Gender</th>\n",
       "      <th>Married</th>\n",
       "      <th>Dependents</th>\n",
       "      <th>Education</th>\n",
       "      <th>Self_Employed</th>\n",
       "      <th>ApplicantIncome</th>\n",
       "      <th>CoapplicantIncome</th>\n",
       "      <th>LoanAmount</th>\n",
       "      <th>Loan_Amount_Term</th>\n",
       "      <th>Credit_History</th>\n",
       "      <th>Property_Area</th>\n",
       "      <th>Loan_Status</th>\n",
       "    </tr>\n",
       "  </thead>\n",
       "  <tbody>\n",
       "    <tr>\n",
       "      <th>0</th>\n",
       "      <td>0</td>\n",
       "      <td>0</td>\n",
       "      <td>0</td>\n",
       "      <td>0</td>\n",
       "      <td>0</td>\n",
       "      <td>5849</td>\n",
       "      <td>0.0</td>\n",
       "      <td>146.412162</td>\n",
       "      <td>360.0</td>\n",
       "      <td>1.0</td>\n",
       "      <td>0</td>\n",
       "      <td>1</td>\n",
       "    </tr>\n",
       "    <tr>\n",
       "      <th>1</th>\n",
       "      <td>0</td>\n",
       "      <td>1</td>\n",
       "      <td>1</td>\n",
       "      <td>0</td>\n",
       "      <td>0</td>\n",
       "      <td>4583</td>\n",
       "      <td>1508.0</td>\n",
       "      <td>128.000000</td>\n",
       "      <td>360.0</td>\n",
       "      <td>1.0</td>\n",
       "      <td>1</td>\n",
       "      <td>0</td>\n",
       "    </tr>\n",
       "  </tbody>\n",
       "</table>\n",
       "</div>"
      ],
      "text/plain": [
       "   Gender  Married  Dependents  Education  Self_Employed  ApplicantIncome  \\\n",
       "0       0        0           0          0              0             5849   \n",
       "1       0        1           1          0              0             4583   \n",
       "\n",
       "   CoapplicantIncome  LoanAmount  Loan_Amount_Term  Credit_History  \\\n",
       "0                0.0  146.412162             360.0             1.0   \n",
       "1             1508.0  128.000000             360.0             1.0   \n",
       "\n",
       "   Property_Area  Loan_Status  \n",
       "0              0            1  \n",
       "1              1            0  "
      ]
     },
     "execution_count": 49,
     "metadata": {},
     "output_type": "execute_result"
    }
   ],
   "source": [
    "df.head(2)"
   ]
  },
  {
   "cell_type": "code",
   "execution_count": 50,
   "id": "7fa89399",
   "metadata": {},
   "outputs": [],
   "source": [
    "from sklearn.preprocessing import StandardScaler\n",
    "sc=StandardScaler()\n",
    "df.iloc[:,:-1]=sc.fit_transform(df.iloc[:,:-1])"
   ]
  },
  {
   "cell_type": "code",
   "execution_count": 51,
   "id": "ed172fa8",
   "metadata": {},
   "outputs": [
    {
     "data": {
      "text/html": [
       "<div>\n",
       "<style scoped>\n",
       "    .dataframe tbody tr th:only-of-type {\n",
       "        vertical-align: middle;\n",
       "    }\n",
       "\n",
       "    .dataframe tbody tr th {\n",
       "        vertical-align: top;\n",
       "    }\n",
       "\n",
       "    .dataframe thead th {\n",
       "        text-align: right;\n",
       "    }\n",
       "</style>\n",
       "<table border=\"1\" class=\"dataframe\">\n",
       "  <thead>\n",
       "    <tr style=\"text-align: right;\">\n",
       "      <th></th>\n",
       "      <th>Gender</th>\n",
       "      <th>Married</th>\n",
       "      <th>Dependents</th>\n",
       "      <th>Education</th>\n",
       "      <th>Self_Employed</th>\n",
       "      <th>ApplicantIncome</th>\n",
       "      <th>CoapplicantIncome</th>\n",
       "      <th>LoanAmount</th>\n",
       "      <th>Loan_Amount_Term</th>\n",
       "      <th>Credit_History</th>\n",
       "      <th>Property_Area</th>\n",
       "      <th>Loan_Status</th>\n",
       "    </tr>\n",
       "  </thead>\n",
       "  <tbody>\n",
       "    <tr>\n",
       "      <th>0</th>\n",
       "      <td>-0.472343</td>\n",
       "      <td>-1.372089</td>\n",
       "      <td>-0.737806</td>\n",
       "      <td>-0.528362</td>\n",
       "      <td>-0.392601</td>\n",
       "      <td>0.072991</td>\n",
       "      <td>-0.554487</td>\n",
       "      <td>0.000000</td>\n",
       "      <td>0.279851</td>\n",
       "      <td>0.411733</td>\n",
       "      <td>-1.250298</td>\n",
       "      <td>1</td>\n",
       "    </tr>\n",
       "    <tr>\n",
       "      <th>1</th>\n",
       "      <td>-0.472343</td>\n",
       "      <td>0.728816</td>\n",
       "      <td>0.253470</td>\n",
       "      <td>-0.528362</td>\n",
       "      <td>-0.392601</td>\n",
       "      <td>-0.134412</td>\n",
       "      <td>-0.038732</td>\n",
       "      <td>-0.219273</td>\n",
       "      <td>0.279851</td>\n",
       "      <td>0.411733</td>\n",
       "      <td>-0.060092</td>\n",
       "      <td>0</td>\n",
       "    </tr>\n",
       "    <tr>\n",
       "      <th>2</th>\n",
       "      <td>-0.472343</td>\n",
       "      <td>0.728816</td>\n",
       "      <td>-0.737806</td>\n",
       "      <td>-0.528362</td>\n",
       "      <td>2.547117</td>\n",
       "      <td>-0.393747</td>\n",
       "      <td>-0.554487</td>\n",
       "      <td>-0.957641</td>\n",
       "      <td>0.279851</td>\n",
       "      <td>0.411733</td>\n",
       "      <td>-1.250298</td>\n",
       "      <td>1</td>\n",
       "    </tr>\n",
       "    <tr>\n",
       "      <th>3</th>\n",
       "      <td>-0.472343</td>\n",
       "      <td>0.728816</td>\n",
       "      <td>-0.737806</td>\n",
       "      <td>1.892641</td>\n",
       "      <td>-0.392601</td>\n",
       "      <td>-0.462062</td>\n",
       "      <td>0.251980</td>\n",
       "      <td>-0.314547</td>\n",
       "      <td>0.279851</td>\n",
       "      <td>0.411733</td>\n",
       "      <td>-1.250298</td>\n",
       "      <td>1</td>\n",
       "    </tr>\n",
       "    <tr>\n",
       "      <th>4</th>\n",
       "      <td>-0.472343</td>\n",
       "      <td>-1.372089</td>\n",
       "      <td>-0.737806</td>\n",
       "      <td>-0.528362</td>\n",
       "      <td>-0.392601</td>\n",
       "      <td>0.097728</td>\n",
       "      <td>-0.554487</td>\n",
       "      <td>-0.064454</td>\n",
       "      <td>0.279851</td>\n",
       "      <td>0.411733</td>\n",
       "      <td>-1.250298</td>\n",
       "      <td>1</td>\n",
       "    </tr>\n",
       "  </tbody>\n",
       "</table>\n",
       "</div>"
      ],
      "text/plain": [
       "     Gender   Married  Dependents  Education  Self_Employed  ApplicantIncome  \\\n",
       "0 -0.472343 -1.372089   -0.737806  -0.528362      -0.392601         0.072991   \n",
       "1 -0.472343  0.728816    0.253470  -0.528362      -0.392601        -0.134412   \n",
       "2 -0.472343  0.728816   -0.737806  -0.528362       2.547117        -0.393747   \n",
       "3 -0.472343  0.728816   -0.737806   1.892641      -0.392601        -0.462062   \n",
       "4 -0.472343 -1.372089   -0.737806  -0.528362      -0.392601         0.097728   \n",
       "\n",
       "   CoapplicantIncome  LoanAmount  Loan_Amount_Term  Credit_History  \\\n",
       "0          -0.554487    0.000000          0.279851        0.411733   \n",
       "1          -0.038732   -0.219273          0.279851        0.411733   \n",
       "2          -0.554487   -0.957641          0.279851        0.411733   \n",
       "3           0.251980   -0.314547          0.279851        0.411733   \n",
       "4          -0.554487   -0.064454          0.279851        0.411733   \n",
       "\n",
       "   Property_Area  Loan_Status  \n",
       "0      -1.250298            1  \n",
       "1      -0.060092            0  \n",
       "2      -1.250298            1  \n",
       "3      -1.250298            1  \n",
       "4      -1.250298            1  "
      ]
     },
     "execution_count": 51,
     "metadata": {},
     "output_type": "execute_result"
    }
   ],
   "source": [
    "df.head()"
   ]
  },
  {
   "cell_type": "markdown",
   "id": "1d47743f",
   "metadata": {},
   "source": [
    "## Model Building "
   ]
  },
  {
   "cell_type": "code",
   "execution_count": 52,
   "id": "e4bd5d2a",
   "metadata": {},
   "outputs": [],
   "source": [
    "## model func \n",
    "\n",
    "def model(model_obj):\n",
    "    model_obj.fit(xtrain,ytrain)\n",
    "    ypred=model_obj.predict(xtest)\n",
    "    print(classification_report(ytest,ypred))"
   ]
  },
  {
   "cell_type": "code",
   "execution_count": 53,
   "id": "0e35ac70",
   "metadata": {},
   "outputs": [
    {
     "data": {
      "text/html": [
       "<div>\n",
       "<style scoped>\n",
       "    .dataframe tbody tr th:only-of-type {\n",
       "        vertical-align: middle;\n",
       "    }\n",
       "\n",
       "    .dataframe tbody tr th {\n",
       "        vertical-align: top;\n",
       "    }\n",
       "\n",
       "    .dataframe thead th {\n",
       "        text-align: right;\n",
       "    }\n",
       "</style>\n",
       "<table border=\"1\" class=\"dataframe\">\n",
       "  <thead>\n",
       "    <tr style=\"text-align: right;\">\n",
       "      <th></th>\n",
       "      <th>Gender</th>\n",
       "      <th>Married</th>\n",
       "      <th>Dependents</th>\n",
       "      <th>Education</th>\n",
       "      <th>Self_Employed</th>\n",
       "      <th>ApplicantIncome</th>\n",
       "      <th>CoapplicantIncome</th>\n",
       "      <th>LoanAmount</th>\n",
       "      <th>Loan_Amount_Term</th>\n",
       "      <th>Credit_History</th>\n",
       "      <th>Property_Area</th>\n",
       "    </tr>\n",
       "  </thead>\n",
       "  <tbody>\n",
       "    <tr>\n",
       "      <th>0</th>\n",
       "      <td>-0.472343</td>\n",
       "      <td>-1.372089</td>\n",
       "      <td>-0.737806</td>\n",
       "      <td>-0.528362</td>\n",
       "      <td>-0.392601</td>\n",
       "      <td>0.072991</td>\n",
       "      <td>-0.554487</td>\n",
       "      <td>0.000000</td>\n",
       "      <td>0.279851</td>\n",
       "      <td>0.411733</td>\n",
       "      <td>-1.250298</td>\n",
       "    </tr>\n",
       "    <tr>\n",
       "      <th>1</th>\n",
       "      <td>-0.472343</td>\n",
       "      <td>0.728816</td>\n",
       "      <td>0.253470</td>\n",
       "      <td>-0.528362</td>\n",
       "      <td>-0.392601</td>\n",
       "      <td>-0.134412</td>\n",
       "      <td>-0.038732</td>\n",
       "      <td>-0.219273</td>\n",
       "      <td>0.279851</td>\n",
       "      <td>0.411733</td>\n",
       "      <td>-0.060092</td>\n",
       "    </tr>\n",
       "  </tbody>\n",
       "</table>\n",
       "</div>"
      ],
      "text/plain": [
       "     Gender   Married  Dependents  Education  Self_Employed  ApplicantIncome  \\\n",
       "0 -0.472343 -1.372089   -0.737806  -0.528362      -0.392601         0.072991   \n",
       "1 -0.472343  0.728816    0.253470  -0.528362      -0.392601        -0.134412   \n",
       "\n",
       "   CoapplicantIncome  LoanAmount  Loan_Amount_Term  Credit_History  \\\n",
       "0          -0.554487    0.000000          0.279851        0.411733   \n",
       "1          -0.038732   -0.219273          0.279851        0.411733   \n",
       "\n",
       "   Property_Area  \n",
       "0      -1.250298  \n",
       "1      -0.060092  "
      ]
     },
     "execution_count": 53,
     "metadata": {},
     "output_type": "execute_result"
    }
   ],
   "source": [
    "### Separate x and y \n",
    "\n",
    "x=df.drop(\"Loan_Status\",axis=1)\n",
    "x.head(2)"
   ]
  },
  {
   "cell_type": "code",
   "execution_count": 54,
   "id": "1fb3dc9d",
   "metadata": {},
   "outputs": [
    {
     "data": {
      "text/plain": [
       "0    1\n",
       "1    0\n",
       "Name: Loan_Status, dtype: int64"
      ]
     },
     "execution_count": 54,
     "metadata": {},
     "output_type": "execute_result"
    }
   ],
   "source": [
    "y=df[\"Loan_Status\"]\n",
    "y.head(2)"
   ]
  },
  {
   "cell_type": "code",
   "execution_count": 55,
   "id": "5ae8ec47",
   "metadata": {},
   "outputs": [],
   "source": [
    "### splitting the data\n",
    "\n",
    "from sklearn.model_selection import train_test_split\n",
    "xtrain,xtest,ytrain,ytest=train_test_split(x,y,train_size=0.80,random_state=1)"
   ]
  },
  {
   "cell_type": "code",
   "execution_count": 56,
   "id": "123ae3fe",
   "metadata": {},
   "outputs": [],
   "source": [
    "### import model\n",
    "\n",
    "from sklearn.linear_model import LogisticRegression\n",
    "from sklearn.neighbors import KNeighborsClassifier\n",
    "from sklearn.svm import SVC\n",
    "from sklearn.tree import DecisionTreeClassifier\n",
    "\n",
    "### report \n",
    "\n",
    "from sklearn.metrics import classification_report,accuracy_score"
   ]
  },
  {
   "cell_type": "code",
   "execution_count": 57,
   "id": "65e5da83",
   "metadata": {},
   "outputs": [],
   "source": [
    "### initialising \n",
    "\n",
    "lr=LogisticRegression()\n",
    "knn=KNeighborsClassifier()\n",
    "svc=SVC()\n",
    "dt=DecisionTreeClassifier()"
   ]
  },
  {
   "cell_type": "markdown",
   "id": "93d3ca69",
   "metadata": {},
   "source": [
    "### Logistic Regression"
   ]
  },
  {
   "cell_type": "code",
   "execution_count": 58,
   "id": "0804ee0c",
   "metadata": {},
   "outputs": [
    {
     "name": "stdout",
     "output_type": "stream",
     "text": [
      "              precision    recall  f1-score   support\n",
      "\n",
      "           0       0.94      0.41      0.57        39\n",
      "           1       0.78      0.99      0.87        84\n",
      "\n",
      "    accuracy                           0.80       123\n",
      "   macro avg       0.86      0.70      0.72       123\n",
      "weighted avg       0.83      0.80      0.78       123\n",
      "\n"
     ]
    }
   ],
   "source": [
    "model(lr)"
   ]
  },
  {
   "cell_type": "markdown",
   "id": "bb8e2f37",
   "metadata": {},
   "source": [
    "### Knearest Neighbours"
   ]
  },
  {
   "cell_type": "code",
   "execution_count": 59,
   "id": "5d6c2944",
   "metadata": {},
   "outputs": [
    {
     "name": "stdout",
     "output_type": "stream",
     "text": [
      "              precision    recall  f1-score   support\n",
      "\n",
      "           0       0.74      0.44      0.55        39\n",
      "           1       0.78      0.93      0.85        84\n",
      "\n",
      "    accuracy                           0.77       123\n",
      "   macro avg       0.76      0.68      0.70       123\n",
      "weighted avg       0.77      0.77      0.75       123\n",
      "\n"
     ]
    }
   ],
   "source": [
    "model(knn)"
   ]
  },
  {
   "cell_type": "markdown",
   "id": "2c1ba3c5",
   "metadata": {},
   "source": [
    "### Support Vector Classifier"
   ]
  },
  {
   "cell_type": "code",
   "execution_count": 60,
   "id": "95da78a2",
   "metadata": {},
   "outputs": [
    {
     "name": "stdout",
     "output_type": "stream",
     "text": [
      "              precision    recall  f1-score   support\n",
      "\n",
      "           0       0.94      0.41      0.57        39\n",
      "           1       0.78      0.99      0.87        84\n",
      "\n",
      "    accuracy                           0.80       123\n",
      "   macro avg       0.86      0.70      0.72       123\n",
      "weighted avg       0.83      0.80      0.78       123\n",
      "\n"
     ]
    }
   ],
   "source": [
    "model(svc)"
   ]
  },
  {
   "cell_type": "markdown",
   "id": "cb00e867",
   "metadata": {},
   "source": [
    "### Decision Tree "
   ]
  },
  {
   "cell_type": "code",
   "execution_count": 61,
   "id": "686870ef",
   "metadata": {},
   "outputs": [
    {
     "name": "stdout",
     "output_type": "stream",
     "text": [
      "              precision    recall  f1-score   support\n",
      "\n",
      "           0       0.51      0.62      0.56        39\n",
      "           1       0.80      0.73      0.76        84\n",
      "\n",
      "    accuracy                           0.69       123\n",
      "   macro avg       0.66      0.67      0.66       123\n",
      "weighted avg       0.71      0.69      0.70       123\n",
      "\n"
     ]
    }
   ],
   "source": [
    "model(dt)"
   ]
  },
  {
   "cell_type": "markdown",
   "id": "f5f1545c",
   "metadata": {},
   "source": [
    "**Inference**\n",
    "* Logistic Regression and Svc has the highest accuracy at 80 % \n",
    "* where knn has 77 % & DecisionTree has 69 %"
   ]
  },
  {
   "cell_type": "markdown",
   "id": "a4d3ca21",
   "metadata": {},
   "source": [
    "### Hypertunning"
   ]
  },
  {
   "cell_type": "code",
   "execution_count": 62,
   "id": "94746266",
   "metadata": {},
   "outputs": [],
   "source": [
    "### import model\n",
    "\n",
    "from sklearn.model_selection import GridSearchCV"
   ]
  },
  {
   "cell_type": "code",
   "execution_count": 63,
   "id": "9f696608",
   "metadata": {},
   "outputs": [],
   "source": [
    "## logistic Regression parameters \n",
    "\n",
    "lr_param={\n",
    "    \"penalty\":[\"l1\",\"l2\"],\n",
    "    \"C\":[0.01,0.05,0.1,0.5],\n",
    "    \"solver\":['liblinear', 'sag']\n",
    "}"
   ]
  },
  {
   "cell_type": "code",
   "execution_count": 64,
   "id": "ca82c774",
   "metadata": {},
   "outputs": [],
   "source": [
    "### initializing \n",
    "\n",
    "cv=GridSearchCV(estimator=lr,param_grid=lr_param,cv=5,scoring=\"accuracy\")"
   ]
  },
  {
   "cell_type": "code",
   "execution_count": 65,
   "id": "13a62cdc",
   "metadata": {},
   "outputs": [
    {
     "data": {
      "text/plain": [
       "GridSearchCV(cv=5, estimator=LogisticRegression(),\n",
       "             param_grid={'C': [0.01, 0.05, 0.1, 0.5], 'penalty': ['l1', 'l2'],\n",
       "                         'solver': ['liblinear', 'sag']},\n",
       "             scoring='accuracy')"
      ]
     },
     "execution_count": 65,
     "metadata": {},
     "output_type": "execute_result"
    }
   ],
   "source": [
    "### fitting the model\n",
    "\n",
    "cv.fit(xtrain,ytrain)"
   ]
  },
  {
   "cell_type": "code",
   "execution_count": 66,
   "id": "b0d3b73e",
   "metadata": {},
   "outputs": [],
   "source": [
    "ypred=cv.predict(xtest)"
   ]
  },
  {
   "cell_type": "code",
   "execution_count": 67,
   "id": "7706e839",
   "metadata": {},
   "outputs": [
    {
     "data": {
      "text/plain": [
       "{'C': 0.01, 'penalty': 'l2', 'solver': 'liblinear'}"
      ]
     },
     "execution_count": 67,
     "metadata": {},
     "output_type": "execute_result"
    }
   ],
   "source": [
    "cv.best_params_"
   ]
  },
  {
   "cell_type": "code",
   "execution_count": 68,
   "id": "f06c4fde",
   "metadata": {},
   "outputs": [
    {
     "data": {
      "text/plain": [
       "81.47186147186147"
      ]
     },
     "execution_count": 68,
     "metadata": {},
     "output_type": "execute_result"
    }
   ],
   "source": [
    "cv.best_score_*100"
   ]
  },
  {
   "cell_type": "markdown",
   "id": "67f37473",
   "metadata": {},
   "source": [
    "**Inference**\n",
    "* Before hypertuning accuracy was 80 % and  \n",
    "* After hypertuning accuracy was 81 %"
   ]
  },
  {
   "cell_type": "code",
   "execution_count": 69,
   "id": "4c48deeb",
   "metadata": {},
   "outputs": [],
   "source": [
    "## Svc parameters \n",
    "\n",
    "svc_param={\n",
    "    \"kernel\":['linear', 'rbf', 'sigmoid'],\n",
    "    \"C\":[0.01,0.05,0.1,0.5]\n",
    "}"
   ]
  },
  {
   "cell_type": "code",
   "execution_count": 70,
   "id": "4c255ac5",
   "metadata": {},
   "outputs": [],
   "source": [
    "### initializing \n",
    "\n",
    "cv=GridSearchCV(estimator=svc,param_grid=svc_param,cv=5,scoring=\"accuracy\")"
   ]
  },
  {
   "cell_type": "code",
   "execution_count": 71,
   "id": "a8c92a57",
   "metadata": {},
   "outputs": [
    {
     "data": {
      "text/plain": [
       "GridSearchCV(cv=5, estimator=SVC(),\n",
       "             param_grid={'C': [0.01, 0.05, 0.1, 0.5],\n",
       "                         'kernel': ['linear', 'rbf', 'sigmoid']},\n",
       "             scoring='accuracy')"
      ]
     },
     "execution_count": 71,
     "metadata": {},
     "output_type": "execute_result"
    }
   ],
   "source": [
    "### fitting the model\n",
    "\n",
    "cv.fit(xtrain,ytrain)"
   ]
  },
  {
   "cell_type": "code",
   "execution_count": 72,
   "id": "4c4be14e",
   "metadata": {},
   "outputs": [],
   "source": [
    "ypred=cv.predict(xtest)"
   ]
  },
  {
   "cell_type": "code",
   "execution_count": 73,
   "id": "16cb198e",
   "metadata": {},
   "outputs": [
    {
     "data": {
      "text/plain": [
       "{'C': 0.01, 'kernel': 'linear'}"
      ]
     },
     "execution_count": 73,
     "metadata": {},
     "output_type": "execute_result"
    }
   ],
   "source": [
    "cv.best_params_"
   ]
  },
  {
   "cell_type": "code",
   "execution_count": 74,
   "id": "fdca532b",
   "metadata": {},
   "outputs": [
    {
     "data": {
      "text/plain": [
       "81.06575963718822"
      ]
     },
     "execution_count": 74,
     "metadata": {},
     "output_type": "execute_result"
    }
   ],
   "source": [
    "cv.best_score_*100"
   ]
  },
  {
   "cell_type": "markdown",
   "id": "ace4f5aa",
   "metadata": {},
   "source": [
    "**Inference**\n",
    "* Before hypertuning accuracy was 80 % and\n",
    "* After hypertuning accuracy was 81 %"
   ]
  },
  {
   "cell_type": "code",
   "execution_count": 75,
   "id": "cf9aa092",
   "metadata": {},
   "outputs": [],
   "source": [
    "## decision parameters\n",
    "\n",
    "dt_param={\n",
    "    \"criterion\":[\"gini\",\"entropy\"],\n",
    "    \"max_depth\":[1,250],\n",
    "    \"min_samples_split\":[2,250],\n",
    "    \"min_samples_leaf\":[1,250]\n",
    "}"
   ]
  },
  {
   "cell_type": "code",
   "execution_count": 76,
   "id": "2d44d25f",
   "metadata": {},
   "outputs": [],
   "source": [
    "### initializing \n",
    "\n",
    "cv=GridSearchCV(estimator=dt,param_grid=dt_param,cv=5,scoring=\"accuracy\")"
   ]
  },
  {
   "cell_type": "code",
   "execution_count": 77,
   "id": "484c091d",
   "metadata": {},
   "outputs": [
    {
     "data": {
      "text/plain": [
       "GridSearchCV(cv=5, estimator=DecisionTreeClassifier(),\n",
       "             param_grid={'criterion': ['gini', 'entropy'],\n",
       "                         'max_depth': [1, 250], 'min_samples_leaf': [1, 250],\n",
       "                         'min_samples_split': [2, 250]},\n",
       "             scoring='accuracy')"
      ]
     },
     "execution_count": 77,
     "metadata": {},
     "output_type": "execute_result"
    }
   ],
   "source": [
    "### fitting the model\n",
    "\n",
    "cv.fit(xtrain,ytrain)"
   ]
  },
  {
   "cell_type": "code",
   "execution_count": 78,
   "id": "e0546c83",
   "metadata": {},
   "outputs": [],
   "source": [
    "ypred=cv.predict(xtest)"
   ]
  },
  {
   "cell_type": "code",
   "execution_count": 79,
   "id": "d86c8298",
   "metadata": {},
   "outputs": [
    {
     "data": {
      "text/plain": [
       "{'criterion': 'gini',\n",
       " 'max_depth': 1,\n",
       " 'min_samples_leaf': 1,\n",
       " 'min_samples_split': 2}"
      ]
     },
     "execution_count": 79,
     "metadata": {},
     "output_type": "execute_result"
    }
   ],
   "source": [
    "cv.best_params_"
   ]
  },
  {
   "cell_type": "code",
   "execution_count": 80,
   "id": "c67e1e4c",
   "metadata": {},
   "outputs": [
    {
     "data": {
      "text/plain": [
       "81.06575963718822"
      ]
     },
     "execution_count": 80,
     "metadata": {},
     "output_type": "execute_result"
    }
   ],
   "source": [
    "cv.best_score_*100"
   ]
  },
  {
   "cell_type": "markdown",
   "id": "d828d880",
   "metadata": {},
   "source": [
    "**Inference**\n",
    "* Before hypertuning accuracy was 69 % and\n",
    "* After hypertuning accuracy was 81 %"
   ]
  },
  {
   "cell_type": "markdown",
   "id": "25336e47",
   "metadata": {},
   "source": [
    "**Final Model**"
   ]
  },
  {
   "cell_type": "code",
   "execution_count": 81,
   "id": "dc2a99ac",
   "metadata": {},
   "outputs": [],
   "source": [
    "dt_final=DecisionTreeClassifier(criterion = 'gini',\n",
    "                                    max_depth = 1,\n",
    "                                    min_samples_leaf = 1,\n",
    "                                    min_samples_split = 2)"
   ]
  },
  {
   "cell_type": "code",
   "execution_count": 82,
   "id": "ad39b950",
   "metadata": {},
   "outputs": [
    {
     "name": "stdout",
     "output_type": "stream",
     "text": [
      "              precision    recall  f1-score   support\n",
      "\n",
      "           0       0.94      0.41      0.57        39\n",
      "           1       0.78      0.99      0.87        84\n",
      "\n",
      "    accuracy                           0.80       123\n",
      "   macro avg       0.86      0.70      0.72       123\n",
      "weighted avg       0.83      0.80      0.78       123\n",
      "\n"
     ]
    }
   ],
   "source": [
    "dt_final.fit(xtrain,ytrain)\n",
    "ypred=dt_final.predict(xtest)\n",
    "print(classification_report(ytest,ypred))"
   ]
  },
  {
   "cell_type": "markdown",
   "id": "ed08c949",
   "metadata": {},
   "source": [
    "**Inference**\n",
    "* Selecting the Decision Tree Algorithm because,\n",
    "* As Outliers cannot be removed from the dataset, it will reduced the data to 33 rows. Decision Tree has no affect of outliers \n",
    "* whereas, Svc will be best will multi classification but here the target variable is binary classification. Hence, dropping Svc alogrithm."
   ]
  },
  {
   "cell_type": "markdown",
   "id": "791e6c65",
   "metadata": {},
   "source": [
    "### Pickling "
   ]
  },
  {
   "cell_type": "code",
   "execution_count": 83,
   "id": "0a319132",
   "metadata": {},
   "outputs": [],
   "source": [
    "import pickle\n",
    "\n",
    "### pickling \n",
    "\n",
    "pickle.dump(lr , open(\"loan_santion.pkl\" , \"wb\"))"
   ]
  },
  {
   "cell_type": "markdown",
   "id": "4c790d9a",
   "metadata": {},
   "source": [
    "### Flask"
   ]
  },
  {
   "cell_type": "code",
   "execution_count": 84,
   "id": "22541a99",
   "metadata": {},
   "outputs": [
    {
     "data": {
      "text/html": [
       "<div>\n",
       "<style scoped>\n",
       "    .dataframe tbody tr th:only-of-type {\n",
       "        vertical-align: middle;\n",
       "    }\n",
       "\n",
       "    .dataframe tbody tr th {\n",
       "        vertical-align: top;\n",
       "    }\n",
       "\n",
       "    .dataframe thead th {\n",
       "        text-align: right;\n",
       "    }\n",
       "</style>\n",
       "<table border=\"1\" class=\"dataframe\">\n",
       "  <thead>\n",
       "    <tr style=\"text-align: right;\">\n",
       "      <th></th>\n",
       "      <th>Gender</th>\n",
       "      <th>Married</th>\n",
       "      <th>Dependents</th>\n",
       "      <th>Education</th>\n",
       "      <th>Self_Employed</th>\n",
       "      <th>ApplicantIncome</th>\n",
       "      <th>CoapplicantIncome</th>\n",
       "      <th>LoanAmount</th>\n",
       "      <th>Loan_Amount_Term</th>\n",
       "      <th>Credit_History</th>\n",
       "      <th>Property_Area</th>\n",
       "      <th>Loan_Status</th>\n",
       "    </tr>\n",
       "  </thead>\n",
       "  <tbody>\n",
       "    <tr>\n",
       "      <th>0</th>\n",
       "      <td>-0.472343</td>\n",
       "      <td>-1.372089</td>\n",
       "      <td>-0.737806</td>\n",
       "      <td>-0.528362</td>\n",
       "      <td>-0.392601</td>\n",
       "      <td>0.072991</td>\n",
       "      <td>-0.554487</td>\n",
       "      <td>0.000000</td>\n",
       "      <td>0.279851</td>\n",
       "      <td>0.411733</td>\n",
       "      <td>-1.250298</td>\n",
       "      <td>1</td>\n",
       "    </tr>\n",
       "    <tr>\n",
       "      <th>1</th>\n",
       "      <td>-0.472343</td>\n",
       "      <td>0.728816</td>\n",
       "      <td>0.253470</td>\n",
       "      <td>-0.528362</td>\n",
       "      <td>-0.392601</td>\n",
       "      <td>-0.134412</td>\n",
       "      <td>-0.038732</td>\n",
       "      <td>-0.219273</td>\n",
       "      <td>0.279851</td>\n",
       "      <td>0.411733</td>\n",
       "      <td>-0.060092</td>\n",
       "      <td>0</td>\n",
       "    </tr>\n",
       "  </tbody>\n",
       "</table>\n",
       "</div>"
      ],
      "text/plain": [
       "     Gender   Married  Dependents  Education  Self_Employed  ApplicantIncome  \\\n",
       "0 -0.472343 -1.372089   -0.737806  -0.528362      -0.392601         0.072991   \n",
       "1 -0.472343  0.728816    0.253470  -0.528362      -0.392601        -0.134412   \n",
       "\n",
       "   CoapplicantIncome  LoanAmount  Loan_Amount_Term  Credit_History  \\\n",
       "0          -0.554487    0.000000          0.279851        0.411733   \n",
       "1          -0.038732   -0.219273          0.279851        0.411733   \n",
       "\n",
       "   Property_Area  Loan_Status  \n",
       "0      -1.250298            1  \n",
       "1      -0.060092            0  "
      ]
     },
     "execution_count": 84,
     "metadata": {},
     "output_type": "execute_result"
    }
   ],
   "source": [
    "df.head(2)"
   ]
  },
  {
   "cell_type": "code",
   "execution_count": 85,
   "id": "671e938c",
   "metadata": {},
   "outputs": [],
   "source": [
    "# Gender { 'Male' : 0, 'Female' : 1 }\n",
    "# Married { 'No' : 0, 'Yes' : 1 }\n",
    "# Dependents { '0' : 0, '1' : 1, '2' : 2, '3+' : 3}\n",
    "# Education { 'Graduate' : 0, 'Not Graduate' : 1 }\n",
    "# Self_Employed { 'No' : 0, 'Yes' : 1 }\n",
    "# Loan_Amount_Term { 12 days - 480 days }\n",
    "# Credit_History { 0 : 0, 1 : 1 }\n",
    "# Property_Area { 'Urban' : 0, 'Rural' : 1, 'Semiurban' : 2}\n",
    "# Loan_Status { 'N' : 0, 'Y' : 1 }"
   ]
  },
  {
   "cell_type": "code",
   "execution_count": null,
   "id": "10b0ed08",
   "metadata": {},
   "outputs": [],
   "source": []
  },
  {
   "cell_type": "code",
   "execution_count": null,
   "id": "3c65b528",
   "metadata": {},
   "outputs": [],
   "source": []
  }
 ],
 "metadata": {
  "kernelspec": {
   "display_name": "Python 3 (ipykernel)",
   "language": "python",
   "name": "python3"
  },
  "language_info": {
   "codemirror_mode": {
    "name": "ipython",
    "version": 3
   },
   "file_extension": ".py",
   "mimetype": "text/x-python",
   "name": "python",
   "nbconvert_exporter": "python",
   "pygments_lexer": "ipython3",
   "version": "3.9.12"
  },
  "varInspector": {
   "cols": {
    "lenName": 16,
    "lenType": 16,
    "lenVar": 40
   },
   "kernels_config": {
    "python": {
     "delete_cmd_postfix": "",
     "delete_cmd_prefix": "del ",
     "library": "var_list.py",
     "varRefreshCmd": "print(var_dic_list())"
    },
    "r": {
     "delete_cmd_postfix": ") ",
     "delete_cmd_prefix": "rm(",
     "library": "var_list.r",
     "varRefreshCmd": "cat(var_dic_list()) "
    }
   },
   "types_to_exclude": [
    "module",
    "function",
    "builtin_function_or_method",
    "instance",
    "_Feature"
   ],
   "window_display": false
  }
 },
 "nbformat": 4,
 "nbformat_minor": 5
}
